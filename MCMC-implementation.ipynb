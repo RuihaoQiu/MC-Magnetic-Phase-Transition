{
 "cells": [
  {
   "cell_type": "markdown",
   "metadata": {
    "collapsed": true
   },
   "source": [
    "## Monte Carlo simulations\n",
    "\n",
    "According to <b>Boltzmann distribution</b>, the probability of a state $i$ with a given energy at temperature $T$ is\n",
    "$$P(E_i) = \\frac 1 Z exp (\\frac{-E_i}{k_BT}),$$\n",
    "\n",
    "the <b>partition function</b> $Z = \\sum \\limits_i exp(\\frac {-E_i}{k_BT})$, $k_B$ is the Boltzmann constant.\n",
    "\n",
    "Let's consider fliping the spin of one atom in the $N$ atoms system. Suppose that this operation causes the system transform from state $a$ (energy $E_a$) to state $b$ (energy $E_b$) and $E_a < E_b$.\n",
    "The propability of transition from $a$ to $b$ is\n",
    "$$P_{a \\rightarrow b} = exp(-\\frac {E_b - E_a}{k_BT}),$$\n",
    "whereas the propability of transition from $b$ to $a$ is \n",
    "$$P_{b \\rightarrow a}=1$$.\n",
    "\n",
    "Based on the Metropolis–Hastings algorithm, we can construct the calculation process:\n",
    "\n",
    "0. Start with certain spin configuration {<i>s<sub>i</sub></i>};\n",
    "1. Randomly choose a spin <i>s<sub>i</sub></i>;\n",
    "2. Attempt to flip it, i.e. $s_i := - s_i (trial)$;\n",
    "3. Compute the energy change $\\Delta E$ due to this flip, according to the mean field approximation; \n",
    "4. If $E \\le 0$, accept the trial;\n",
    "5. If $E > 0$, accept the trial with probability $P = exp(-\\frac {\\Delta E}{k_BT})$;\n",
    "6. If trial is rejected, put the spin back, i.e. $s_i := - s_i $;\n",
    "7. Go to 1, unless maximum number of iterations is reached.\n"
   ]
  }
 ],
 "metadata": {
  "anaconda-cloud": {},
  "kernelspec": {
   "display_name": "Python 2",
   "language": "python",
   "name": "python2"
  },
  "language_info": {
   "codemirror_mode": {
    "name": "ipython",
    "version": 2
   },
   "file_extension": ".py",
   "mimetype": "text/x-python",
   "name": "python",
   "nbconvert_exporter": "python",
   "pygments_lexer": "ipython2",
   "version": "2.7.11"
  }
 },
 "nbformat": 4,
 "nbformat_minor": 0
}
