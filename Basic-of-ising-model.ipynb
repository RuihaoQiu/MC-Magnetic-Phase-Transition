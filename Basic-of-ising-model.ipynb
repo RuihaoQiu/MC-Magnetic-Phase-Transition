{
 "cells": [
  {
   "cell_type": "markdown",
   "metadata": {},
   "source": [
    "# Ising model\n",
    "\n",
    "### Mean-field approximation and Monte Carlo simulation\n",
    "\n",
    "Ising model is the simplest theoretical description of ferromagnetism. Let's consider $N$ atoms are in a $z$-directed magnetic field $H$, according to Ising model, the total energy of the system can be written as\n",
    "\n",
    "> $$ E = -J \\sum_{<i,j>} s_i s_j - \\mu H \\sum_{i=1,N} s_i, $$\n",
    "\n",
    "suppose that the spin $s_i$ of all atoms are identical, either spin-up (+1) or spin-dowm (-1). Here, $J$ is the <b><i>exchange parameter</i></b>, whereas $\\mu$ is the <b><i>atomic magnetic moment</i></b>.\n",
    "\n",
    "First, we use mean field theory to analyse it. The energy of the ￼$i$th atom can be written in terms of an effective field,\n",
    "\n",
    "> $$ e_i = -\\mu H_{eff} s_i $$\n",
    "$$ H_{eff} = -\\frac J 2 \\sum_{j=1,z} s_j - \\mu H, $$\n",
    "\n",
    "while the total energy is \n",
    ">$$ E = \\sum_i e_i $$\n",
    "\n",
    "the sum is over $z$ nearest neighbors of atom $i$, $\\frac 1 2$ is to avoid double counting. According to mean field approximation, $ z \\bar s = \\sum \\limits_{j=1,z} s_j$, \n",
    ">$$ H_{eff} = -\\frac z 2 J \\bar s - \\mu H$$\n",
    "\n",
    "According to <b>Boltzmann distribution</b>, the probability of a state $i$ with a given energy at temperature $T$ is\n",
    ">$$P(E_i) = \\frac 1 Z exp (\\frac{-E_i}{k_BT})$$,\n",
    "\n",
    "the <b>partition function</b> $Z = \\sum \\limits_i exp(\\frac {-E_i}{k_BT})$, $k_B$ is the Boltzmann constant.\n",
    "\n"
   ]
  },
  {
   "cell_type": "code",
   "execution_count": null,
   "metadata": {
    "collapsed": true
   },
   "outputs": [],
   "source": []
  }
 ],
 "metadata": {
  "kernelspec": {
   "display_name": "Python 2",
   "language": "python",
   "name": "python2"
  },
  "language_info": {
   "codemirror_mode": {
    "name": "ipython",
    "version": 2
   },
   "file_extension": ".py",
   "mimetype": "text/x-python",
   "name": "python",
   "nbconvert_exporter": "python",
   "pygments_lexer": "ipython2",
   "version": "2.7.11"
  }
 },
 "nbformat": 4,
 "nbformat_minor": 0
}
