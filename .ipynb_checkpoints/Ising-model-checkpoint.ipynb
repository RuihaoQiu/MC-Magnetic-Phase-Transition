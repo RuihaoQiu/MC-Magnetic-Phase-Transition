{
 "cells": [
  {
   "cell_type": "markdown",
   "metadata": {},
   "source": [
    "# Ising model\n",
    "\n",
    "### Mean-field approximation\n",
    "\n",
    "Ising model is the simplest theoretical description of ferromagnetism. Let's consider $N$ atoms are in a $z$-directed magnetic field $H$, according to Ising model, the Hamiltonian of the system can be written as\n",
    "\n",
    "$$ \\mathcal{H} = -J \\sum_{<i,j>} s_i s_j - \\mu H \\sum_{i=1,N} s_i, $$\n",
    "\n",
    "suppose that the spin $s_i$ of all atoms are identical, either spin-up (+1) or spin-dowm (-1). Here, $J$ is the <b><i>exchange parameter</i></b>, whereas $\\mu$ is the <b><i>atomic magnetic moment</i></b>.\n",
    "\n",
    "First, we use mean field theory to analyse it. The energy of the ￼$i$th atom can be written in terms of an effective field,\n",
    "\n",
    "$$ E_i = -\\mu H_{eff} s_i $$\n",
    "$$ H_{eff} = -\\frac J 2 \\sum_{j=1,z} s_j - \\mu H, $$\n",
    "\n",
    "while the total energy is \n",
    "$$ E = \\sum_i E_i $$\n",
    "\n",
    "the sum is over $z$ nearest neighbors of atom $i$, $\\frac 1 2$ is to avoid double counting. According to mean field approximation, $ z \\bar s = \\sum \\limits_{j=1,z} s_j$, \n",
    "$$ H_{eff} = -\\frac z 2 J \\bar s - \\mu H$$\n"
   ]
  },
  {
   "cell_type": "markdown",
   "metadata": {
    "collapsed": true
   },
   "source": [
    "### Monte Carlo simulations\n",
    "\n",
    "According to <b>Boltzmann distribution</b>, the probability of a state $i$ with a given energy at temperature $T$ is\n",
    "$$P(E_i) = \\frac 1 Z exp (\\frac{-E_i}{k_BT}),$$\n",
    "\n",
    "the <b>partition function</b> $Z = \\sum \\limits_i exp(\\frac {-E_i}{k_BT})$, $k_B$ is the Boltzmann constant.\n",
    "\n",
    "Metropolis–Hastings algorithm is a Markov chain Monte Carlo (MCMC) method for obtaining a sequence of random samples from a probability distribution. let's consider fliping the spin of one atom in the N atoms system. Suppose that this operation causes the system transform from state <i>a</i> (energy E<sub><i>a</i></sub>) to state <i>b</i> (energy E<sub><i>b</i></sub>) and E<sub><i>a</i></sub> < E<sub><i>b</i></sub>.\n",
    "The propability of transition from <i>a</i> to <i>b</i> is\n",
    "$$P_{a \\rightarrow b} = exp(-\\frac {E_b - E_a}{k_BT})$$\n",
    "whereas the propability of transition from <i>b</i> to <i>a</i> is $P_{b \\rightarrow a}=1$."
   ]
  },
  {
   "cell_type": "code",
   "execution_count": null,
   "metadata": {
    "collapsed": true
   },
   "outputs": [],
   "source": []
  }
 ],
 "metadata": {
  "kernelspec": {
   "display_name": "Python 2",
   "language": "python",
   "name": "python2"
  },
  "language_info": {
   "codemirror_mode": {
    "name": "ipython",
    "version": 2
   },
   "file_extension": ".py",
   "mimetype": "text/x-python",
   "name": "python",
   "nbconvert_exporter": "python",
   "pygments_lexer": "ipython2",
   "version": "2.7.12"
  }
 },
 "nbformat": 4,
 "nbformat_minor": 0
}
