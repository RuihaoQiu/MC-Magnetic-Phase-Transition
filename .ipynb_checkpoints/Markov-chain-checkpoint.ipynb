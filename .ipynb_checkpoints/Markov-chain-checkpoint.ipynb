{
 "cells": [
  {
   "cell_type": "markdown",
   "metadata": {},
   "source": [
    "## Markov chain\n",
    "\n",
    "\n",
    "### 1. Basic"
   ]
  },
  {
   "cell_type": "code",
   "execution_count": 58,
   "metadata": {
    "collapsed": false
   },
   "outputs": [
    {
     "name": "stdout",
     "output_type": "stream",
     "text": [
      "[0, 0, 0, 1, 1, 1, 1, 2, 1, 0, 0, 0, 1, 1, 1, 0, 0, 0, 1, 1, 1, 2, 0, 0, 0, 0, 0, 0, 0, 0, 0, 0, 0, 1, 1, 0, 0, 0, 0, 2, 0, 1, 1, 2, 2, 2, 0, 0, 0, 0, 0, 0, 0, 0, 0, 0, 1, 1, 1, 1, 0, 1, 2, 1, 2, 0, 2, 2, 2, 1, 0, 2, 2, 2, 2, 1, 1, 1, 0, 0, 1, 1, 1, 2, 2, 1, 1, 0, 0, 0, 1, 1, 1, 1, 1, 1, 0, 0, 1, 2]\n"
     ]
    }
   ],
   "source": [
    "import numpy as np\n",
    "from numpy.random import uniform\n",
    "\n",
    "P = [[0.65, 0.28, 0.07],\n",
    "     [0.15, 0.67, 0.18], \n",
    "     [0.12, 0.36, 0.52]]\n",
    "P = np.asarray(P)\n",
    "\n",
    "idx = 0\n",
    "index = []\n",
    "step = 0\n",
    "n = 100\n",
    "while step < n:\n",
    "    A = np.cumsum(P[idx,:])\n",
    "    idx = np.searchsorted(A, uniform(0, 1))\n",
    "    index = index + [idx]\n",
    "    step += 1\n",
    "print index\n"
   ]
  },
  {
   "cell_type": "code",
   "execution_count": 60,
   "metadata": {
    "collapsed": false
   },
   "outputs": [
    {
     "name": "stdout",
     "output_type": "stream",
     "text": [
      "[[ 0.28650138  0.48852158  0.22497704]\n",
      " [ 0.28650138  0.48852158  0.22497704]\n",
      " [ 0.28650138  0.48852158  0.22497704]]\n"
     ]
    }
   ],
   "source": [
    "Px = np.matrix(P)**40\n",
    "\n",
    "print Ax"
   ]
  },
  {
   "cell_type": "code",
   "execution_count": null,
   "metadata": {
    "collapsed": true
   },
   "outputs": [],
   "source": []
  }
 ],
 "metadata": {
  "anaconda-cloud": {},
  "kernelspec": {
   "display_name": "Python 2",
   "language": "python",
   "name": "python2"
  },
  "language_info": {
   "codemirror_mode": {
    "name": "ipython",
    "version": 2
   },
   "file_extension": ".py",
   "mimetype": "text/x-python",
   "name": "python",
   "nbconvert_exporter": "python",
   "pygments_lexer": "ipython2",
   "version": "2.7.11"
  }
 },
 "nbformat": 4,
 "nbformat_minor": 0
}
