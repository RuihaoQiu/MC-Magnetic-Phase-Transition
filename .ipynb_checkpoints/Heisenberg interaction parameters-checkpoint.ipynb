{
 "cells": [
  {
   "cell_type": "markdown",
   "metadata": {},
   "source": [
    "# Heisenberg Model\n",
    "\n",
    "The general form of Heisenberg Hamiltonian is written as\n",
    "\n",
    "$$H =  - 2\\sum\\limits_{i < j} {{J_{ij}}{\\mathbf S}_i  \\cdot {\\mathbf S}_j}.$$\n",
    "\n",
    "For the multifunctional materials, rare-earth manganites $R$MnO$_3$ ($R=$ Eu, Gd, Tb, ..., Lu), which is $Pbmn$ orthorhombic structure. We construct the its Hamiltonian including a biquadratic coupling term:\n",
    "\n",
    "$$H = \\sum\\limits_{ \\langle n,m \\rangle }^{ab} [J_{ab}{\\mathbf S}_n \\cdot {\\mathbf S}_m + B ({\\mathbf S}_n \\cdot {\\mathbf S}_m)^2] + J_{c}\\sum\\limits_{ \\langle n,m \\rangle }^{c} {\\mathbf S}_n \\cdot {\\mathbf S}_m\\nonumber + J_{a}\\sum\\limits_{ \\langle\\langle n,m \\rangle\\rangle }^{ab} {\\mathbf S}_n \\cdot {\\mathbf S}_m .$$\n",
    "\n",
    "Here $J_{ab}$ and $J_a$ represent nearest- and second-nearest-neighbor interactions in the $ab$ plane, and $J_c$ nearest-neighbor interaction along the $c$ axis.\n",
    "For each atom, there are 4 in-plane nearest neighbors, 2 nearest neighbors along $c$ direction and 4 in-plane second-nearest neighbors.\n",
    "\n",
    "In order to determine the parameters Js, we compute the energy associated to the FM, $A$-, $C$-, $E$-AFM and 90$^{\\circ}$ $S$-AFM.\n",
    "In the orthorhombic $R$MnO$_3$ perovskite structure, each Mn ion is surrounded by 6 nearest neighbors (four are in $ab$-plane and two are out of plane), and 12 next second-nearest neighbors (we only consider four of them in $ab$-plane). \n",
    "In terms of the above Hamiltonian, these energies read:\n",
    "\n",
    "\\begin{align}\n",
    "E_{FM} &= {E_0} + 4{J_{ab}}{S^2} + 2{J_c}{S^2} + 4{J_a}{S^2} + 4B{S^4},\\\\\n",
    "E_{A - AFM} &= {E_0} + 4{J_{ab}}{S^2} - 2{J_c}{S^2} + 4{J_a}{S^2} + 4B{S^4},\\\\\n",
    "E_{C - AFM} &= {E_0} - 4{J_{ab}}{S^2} + 2{J_c}{S^2} + 4{J_a}{S^2} + 4B{S^4},\\\\\n",
    "E_{E - AFM} &= {E_0} - 2{J_c}{S^2} + 4B{S^4},\\\\\n",
    "E_{S - AFM} &= {E_0} - 2{J_c}{S^2},\n",
    "\\end{align}\n",
    "\n",
    "respectively.\n",
    "\n",
    "So, all what we need is just to solve a linear equation $AJ = E$.\n"
   ]
  },
  {
   "cell_type": "code",
   "execution_count": 2,
   "metadata": {
    "collapsed": false
   },
   "outputs": [
    {
     "name": "stdout",
     "output_type": "stream",
     "text": [
      "======================================================================\n",
      "Interaction parameters J_ab, J_c, J_a and B (unit: meV)\n",
      "======================================================================\n",
      "-0.208,  0.264,  0.095, -0.030\n"
     ]
    }
   ],
   "source": [
    "#----------------------------------------------------------------------\n",
    "# Import modules\n",
    "#----------------------------------------------------------------------\n",
    "import numpy as np\n",
    "from numpy import array as npa\n",
    "from numpy import concatenate as npc\n",
    "import math\n",
    "\n",
    "#----------------------------------------------------------------------\n",
    "# Constants used in this work\n",
    "#----------------------------------------------------------------------\n",
    "NFU = 8              # number of formula\n",
    "S = 4                # spin moment (unit: Bohr magneton)\n",
    "etom = 1000          # transfer from eV to meV\n",
    "\n",
    "#----------------------------------------------------------------------\n",
    "# Solve linear equation AJ = E\n",
    "#----------------------------------------------------------------------\n",
    "A = npa([[1, 4, 2, 4, 4],\n",
    "         [1, 4, -2, 4, 4],\n",
    "         [1, -4, 2, 4, 4],\n",
    "         [1, 0, -2, 0, 4],\n",
    "         [1, 0, -2, 0, 0]])\n",
    "# energy of magnetic order of FM, A-AFM, C-AFM, E-AFM, 90S-AFM correspondingly\n",
    "# they are obtained from first-priciples calculations\n",
    "E = npa([-345.8815, -346.0168, -345.6682, -345.9590, -345.9435])\n",
    "\n",
    "# Change the energy unit to meV/f.u. and normalize the spin to 1 \n",
    "E = E/NFU/S**2*etom\n",
    "\n",
    "#----------------------------------------------------------------------\n",
    "# Solve linear eqution\n",
    "#----------------------------------------------------------------------\n",
    "J = np.linalg.solve(A, E)\n",
    "\n",
    "print '='*70\n",
    "print 'Interaction parameters J_ab, J_c, J_a and B (unit: meV)'\n",
    "print '='*70\n",
    "\n",
    "print '{:6.3f}, {:6.3f}, {:6.3f}, {:6.3f}'.format(J[1], J[2], J[3], J[4])"
   ]
  }
 ],
 "metadata": {
  "kernelspec": {
   "display_name": "Python 2",
   "language": "python",
   "name": "python2"
  },
  "language_info": {
   "codemirror_mode": {
    "name": "ipython",
    "version": 2
   },
   "file_extension": ".py",
   "mimetype": "text/x-python",
   "name": "python",
   "nbconvert_exporter": "python",
   "pygments_lexer": "ipython2",
   "version": "2.7.11"
  }
 },
 "nbformat": 4,
 "nbformat_minor": 0
}
