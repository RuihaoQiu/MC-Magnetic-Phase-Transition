{
 "cells": [
  {
   "cell_type": "markdown",
   "metadata": {},
   "source": [
    "# Monte Carlo simulation on 2D Ising model\n",
    "\n",
    "This is a simple excisise of 2D Ising model following the algorithm in file 'Ising-model.ipynb'."
   ]
  },
  {
   "cell_type": "code",
   "execution_count": 3,
   "metadata": {
    "collapsed": false
   },
   "outputs": [
    {
     "name": "stdout",
     "output_type": "stream",
     "text": [
      "======================================================================\n",
      "Number of accepted steps:   1546\n",
      "Spin order of every MC step is save in file mc_data\n",
      "Average magnetization is -1.00\n",
      "====================================================================== \n",
      "\n",
      "======================================================================\n",
      "The initial spin order\n",
      "====================================================================== \n",
      "\n",
      "[[-1  1  1 -1  1 -1  1  1 -1 -1  1  1 -1  1 -1  1 -1 -1  1  1]\n",
      " [ 1  1  1  1 -1  1  1 -1  1 -1 -1  1  1  1 -1 -1 -1  1 -1  1]\n",
      " [-1  1  1  1 -1 -1  1  1 -1 -1 -1  1 -1 -1  1  1 -1 -1  1 -1]\n",
      " [ 1  1  1  1  1 -1 -1 -1 -1 -1  1 -1  1 -1 -1  1  1  1 -1 -1]\n",
      " [ 1 -1 -1  1  1 -1  1  1  1 -1 -1 -1 -1 -1 -1  1  1  1  1 -1]\n",
      " [ 1  1  1 -1 -1 -1 -1  1 -1 -1  1  1 -1  1 -1  1 -1 -1  1 -1]\n",
      " [ 1 -1 -1 -1 -1  1 -1  1 -1 -1  1 -1  1 -1  1  1  1 -1 -1  1]\n",
      " [ 1  1  1 -1 -1 -1  1 -1  1  1  1 -1  1 -1 -1 -1  1 -1 -1  1]\n",
      " [ 1  1  1 -1  1  1 -1  1 -1  1  1  1  1 -1  1  1  1 -1  1  1]\n",
      " [-1  1 -1  1 -1  1 -1 -1 -1 -1  1  1  1 -1  1  1 -1  1  1  1]\n",
      " [ 1 -1 -1 -1 -1 -1 -1 -1 -1 -1 -1 -1  1 -1  1 -1 -1 -1  1  1]\n",
      " [-1 -1 -1 -1  1  1  1  1  1 -1  1  1  1  1 -1 -1  1  1 -1  1]\n",
      " [ 1 -1 -1 -1 -1  1  1 -1  1  1  1 -1  1  1 -1  1  1 -1  1 -1]\n",
      " [-1  1  1  1  1  1  1  1 -1  1  1 -1  1 -1 -1  1 -1 -1 -1  1]\n",
      " [-1 -1 -1 -1  1  1  1 -1  1 -1 -1  1  1  1 -1 -1 -1  1 -1 -1]\n",
      " [ 1 -1  1  1  1 -1 -1 -1 -1 -1 -1  1 -1  1  1  1 -1 -1  1  1]\n",
      " [-1 -1 -1  1  1  1 -1  1  1  1  1 -1 -1  1  1 -1 -1  1  1 -1]\n",
      " [ 1 -1 -1  1  1 -1 -1  1  1  1  1 -1 -1  1  1 -1 -1 -1 -1 -1]\n",
      " [-1 -1 -1  1  1 -1  1  1  1 -1  1 -1  1  1 -1  1 -1  1  1  1]\n",
      " [ 1 -1 -1  1  1 -1 -1 -1  1  1 -1 -1  1 -1 -1  1  1 -1 -1 -1]] \n",
      "\n",
      "======================================================================\n",
      "The final spinal order\n",
      "====================================================================== \n",
      "\n",
      "[[-1 -1 -1 -1 -1 -1 -1 -1 -1 -1 -1 -1 -1 -1 -1 -1 -1 -1 -1 -1]\n",
      " [-1 -1 -1 -1 -1 -1 -1 -1 -1 -1 -1 -1 -1 -1 -1 -1 -1 -1 -1 -1]\n",
      " [-1 -1 -1 -1 -1 -1 -1 -1 -1 -1 -1 -1 -1 -1 -1 -1 -1 -1 -1 -1]\n",
      " [-1 -1 -1 -1 -1 -1 -1 -1 -1 -1 -1 -1 -1 -1 -1 -1 -1 -1 -1 -1]\n",
      " [-1 -1 -1 -1 -1 -1 -1 -1 -1 -1 -1 -1 -1 -1 -1 -1 -1 -1 -1 -1]\n",
      " [-1 -1 -1 -1 -1 -1 -1 -1 -1 -1 -1 -1 -1 -1 -1 -1 -1 -1 -1 -1]\n",
      " [-1 -1 -1 -1 -1 -1 -1 -1 -1 -1 -1 -1 -1 -1 -1 -1 -1 -1 -1 -1]\n",
      " [-1 -1 -1 -1 -1 -1 -1 -1 -1 -1 -1 -1 -1 -1 -1 -1 -1 -1 -1 -1]\n",
      " [-1 -1 -1 -1 -1 -1 -1 -1 -1 -1 -1 -1 -1 -1 -1 -1 -1 -1 -1 -1]\n",
      " [-1 -1 -1 -1 -1 -1 -1 -1 -1 -1 -1 -1 -1 -1 -1 -1 -1 -1 -1 -1]\n",
      " [-1 -1 -1 -1 -1 -1 -1 -1 -1 -1 -1 -1 -1 -1 -1 -1 -1 -1 -1 -1]\n",
      " [-1 -1 -1 -1 -1 -1 -1 -1 -1 -1 -1 -1 -1 -1 -1 -1 -1 -1 -1 -1]\n",
      " [-1 -1 -1 -1 -1 -1 -1 -1 -1 -1 -1 -1 -1 -1 -1 -1 -1 -1 -1 -1]\n",
      " [-1 -1 -1 -1 -1 -1 -1 -1 -1 -1 -1 -1 -1 -1 -1 -1 -1 -1 -1 -1]\n",
      " [-1 -1 -1 -1 -1 -1 -1 -1 -1 -1 -1 -1 -1 -1 -1 -1 -1 -1 -1 -1]\n",
      " [-1 -1 -1 -1 -1 -1 -1 -1 -1 -1 -1 -1 -1 -1 -1 -1 -1 -1 -1 -1]\n",
      " [-1 -1 -1 -1 -1 -1 -1 -1 -1 -1 -1 -1 -1 -1 -1 -1 -1 -1 -1 -1]\n",
      " [-1 -1 -1 -1 -1 -1 -1 -1 -1 -1 -1 -1 -1 -1 -1 -1 -1 -1 -1 -1]\n",
      " [-1 -1 -1 -1 -1 -1 -1 -1 -1 -1 -1 -1 -1 -1 -1 -1 -1 -1 -1 -1]\n",
      " [-1 -1 -1 -1 -1 -1 -1 -1 -1 -1 -1 -1 -1 -1 -1 -1 -1 -1 -1 -1]] \n",
      "\n"
     ]
    }
   ],
   "source": [
    "#----------------------------------------------------------------------#\n",
    "#   Import modules\n",
    "#----------------------------------------------------------------------#\n",
    "import numpy as np\n",
    "import matplotlib.pyplot as plt\n",
    "import matplotlib.animation as animation\n",
    "import matplotlib.patches as patches\n",
    "from matplotlib.collections import PatchCollection\n",
    "%matplotlib inline\n",
    "plt.style.use('ggplot')\n",
    "\n",
    "#----------------------------------------------------------------------#\n",
    "#   Monte Carlo simulation parameters\n",
    "#----------------------------------------------------------------------#\n",
    "SIZE = 20                          # MC size SIZE * SIZE\n",
    "STEPS = 100000                     # MC steps\n",
    "collect_steps = 0.1*STEPS\n",
    "T = 1                              # MC temperature (unit: K)\n",
    "J = 1.0                            # Heisenberg interaction parameter \n",
    "                                   # (unit: meV)\n",
    "#----------------------------------------------------------------------#\n",
    "#   Define a function myFloat transform myList to float\n",
    "#----------------------------------------------------------------------#\n",
    "def myFloat(myList):\n",
    "    return map(float, myList)\n",
    "\n",
    "\n",
    "#----------------------------------------------------------------------#\n",
    "#   Check periodic boundary conditions \n",
    "#----------------------------------------------------------------------#\n",
    "def bc(i):\n",
    "    if i+1 > SIZE-1:\n",
    "        return 0\n",
    "    if i-1 < 0:\n",
    "        return SIZE-1\n",
    "    else:\n",
    "        return i\n",
    "\n",
    "\n",
    "#----------------------------------------------------------------------#\n",
    "#   Calculate energy (nearest interations) \n",
    "#----------------------------------------------------------------------#\n",
    "def energy(system, N, M):\n",
    "    return -1 * system[N,M] * J * (system[bc(N-1), M]\n",
    "                               + system[bc(N+1), M]\n",
    "                               + system[N, bc(M-1)]\n",
    "                               + system[N, bc(M+1)])\n",
    "\n",
    "\n",
    "#----------------------------------------------------------------------#\n",
    "#   Build the system\n",
    "#----------------------------------------------------------------------#\n",
    "def build_system():\n",
    "    sys = np.random.randint(2,size=(SIZE,SIZE))\n",
    "    sys[sys==0] = -1\n",
    "\n",
    "    return sys\n",
    "\n",
    "init_system = build_system()        # Initial spin order\n",
    "\n",
    "\n",
    "#----------------------------------------------------------------------#\n",
    "#   calculate average magnetization\n",
    "#----------------------------------------------------------------------#\n",
    "def ave_mag(system):\n",
    "    return np.sum(np.sum(system, axis=0))*1.0/SIZE**2\n",
    "\n",
    "\n",
    "#----------------------------------------------------------------------#\n",
    "#   Monte carlo loops\n",
    "#----------------------------------------------------------------------#\n",
    "def MC_loop(T, init_system):\n",
    "    spin = 0\n",
    "    system = init_system.copy()         # .copy() is a deep copy method, \n",
    "                                        # otherwise the 'init_system' will change when 'system' changes\n",
    "#    f = open('mc_data', 'w')           # Spin order of each accepted MC step for visualization\n",
    "    n_acpt = 0                          # Number of accepted MC steps\n",
    "\n",
    "    for step, x in enumerate(range(STEPS)):\n",
    "        M = np.random.randint(0,SIZE)\n",
    "        N = np.random.randint(0,SIZE)\n",
    "\n",
    "        E = -2. * energy(system, N, M)\n",
    "\n",
    "        if E <= 0.:\n",
    "            system[N,M] *= -1\n",
    "#            np.savetxt(f,system,fmt='%3d')      # Save spin order for every accepted MC step for visualization\n",
    "            n_acpt = n_acpt + 1\n",
    "\n",
    "        elif np.exp(-1./T*E) > np.random.rand():\n",
    "            system[N,M] *= -1\n",
    "#            np.savetxt(f,system,fmt='%3d')\n",
    "            n_acpt = n_acpt + 1\n",
    "        \n",
    "        \n",
    "        if step >= STEPS - collect_steps:\n",
    "            spin = spin + ave_mag(system)\n",
    "        \n",
    "            \n",
    "    return system, n_acpt, spin/collect_steps\n",
    "#    f.close()\n",
    "\n",
    "\n",
    "final_system = MC_loop(T, init_system)[0]\n",
    "n_acpt = MC_loop(T, init_system)[1]\n",
    "\n",
    "\n",
    "\n",
    "#----------------------------------------------------------------------#\n",
    "#   Monte carlo outputs\n",
    "#----------------------------------------------------------------------#\n",
    "def outputs():\n",
    "    print '='*70\n",
    "    print 'Number of accepted steps: {:6d}'.format(n_acpt)\n",
    "    print 'Spin order of every MC step is save in file mc_data'\n",
    "    print 'Average magnetization is {:4.2f}'.format(ave_mag(final_system))\n",
    "    print '='*70,'\\n'\n",
    "\n",
    "    print '='*70\n",
    "    print 'The initial spin order'\n",
    "    print '='*70,'\\n'\n",
    "    print init_system,'\\n'\n",
    "\n",
    "    print '='*70\n",
    "    print 'The final spinal order'\n",
    "    print '='*70,'\\n'\n",
    "    print final_system,'\\n'\n",
    "\n",
    "outputs()"
   ]
  },
  {
   "cell_type": "markdown",
   "metadata": {},
   "source": [
    "## Visualize the MC process\n",
    "\n",
    "### Visualize spin configurations with vectors"
   ]
  },
  {
   "cell_type": "code",
   "execution_count": 9,
   "metadata": {
    "collapsed": false
   },
   "outputs": [],
   "source": [
    "#----------------------------------------------------------------------#\n",
    "#   Plot arrow spin vectors\n",
    "#----------------------------------------------------------------------#\n",
    "fig, ax = plt.subplots()\n",
    "plt.xlim(-1,SIZE)\n",
    "plt.ylim(-1,SIZE)\n",
    "\n",
    "X, Y = np.meshgrid(np.arange(0, SIZE), np.arange(0, SIZE))\n",
    "U = 0\n",
    "V = init_system[X,Y]\n",
    "C = V\n",
    "\n",
    "Q = plt.quiver(X, Y, U, V, C, cmap=plt.cm.seismic, pivot='middle')\n",
    "\n",
    "f = open(\"mc_data\",\"r\")\n",
    "out = [line.split() for line in f]\n",
    "data = map(myFloat,out)\n",
    "f.close()\n",
    "\n",
    "def animate(i):\n",
    "    U = 0\n",
    "    V = data[i*SIZE:(i+1)*SIZE]\n",
    "    C = V\n",
    "    Q.set_UVC(U,V,C)\n",
    "    return Q\n",
    "\n",
    "ani = animation.FuncAnimation(fig, animate, interval=20)\n",
    "\n",
    "## Save the animation as .mp4 or .gif file\n",
    "\n",
    "#ani.save('2d_vector.mp4', writer=\"ffmpeg\", fps=10, dpi=400)\n",
    "#ani.save('2d_color.gif', writer=\"imagemagick\", fps=10)\n",
    "#plt.show()"
   ]
  },
  {
   "cell_type": "markdown",
   "metadata": {},
   "source": [
    "<img src=\"data-and-images/2d_vector.gif\">"
   ]
  },
  {
   "cell_type": "markdown",
   "metadata": {},
   "source": [
    "### Estimate the phase tranisition temperature"
   ]
  },
  {
   "cell_type": "code",
   "execution_count": 4,
   "metadata": {
    "collapsed": false
   },
   "outputs": [
    {
     "name": "stdout",
     "output_type": "stream",
     "text": [
      "The average magnetization from 10K~1K:\n",
      "[0.0048674999999999994, 0.00032550000000003919, 0.013747999999999969, 0.0010735000000000276, 0.017448499999999957, 0.0064970000000001181, 0.0066424999999994657, 0.030122500000000042, 0.016087499999999987, 4.2499999999908252e-05, 0.0041225000000001538, 0.029477499999999907, 0.092272500000000549, 0.049806999999999609, 0.12825250000000074, 0.21274599999999677, 0.9285845000000541, 0.98538849999994504, 0.9999179999999982]\n"
     ]
    }
   ],
   "source": [
    "#----------------------------------------------------------------------#\n",
    "#   Temperature vs. Magnetization\n",
    "#----------------------------------------------------------------------#\n",
    "Mag = []; Temp = [];\n",
    "for i in range(20,1,-1):\n",
    "    T = i*1.0/2\n",
    "    Temp.append(T)\n",
    "    final_system = MC_loop(T, init_system)[0]\n",
    "##    Mag.append(abs(ave_mag(final_system)))\n",
    "    Mag.append(abs(MC_loop(T, init_system)[2]))\n",
    "    init_system = final_system.copy()\n",
    "print 'The average magnetization from 10K~1K:'\n",
    "print Mag"
   ]
  },
  {
   "cell_type": "code",
   "execution_count": 5,
   "metadata": {
    "collapsed": false
   },
   "outputs": [
    {
     "data": {
      "image/png": "[encoded data removed]",
      "text/plain": [
       "<matplotlib.figure.Figure at 0x10b659a10>"
      ]
     },
     "metadata": {},
     "output_type": "display_data"
    }
   ],
   "source": [
    "plt.plot(Temp, Mag)\n",
    "plt.xlabel('Temperature (K)')\n",
    "plt.ylabel('Average magnetization')\n",
    "plt.show()"
   ]
  },
  {
   "cell_type": "markdown",
   "metadata": {},
   "source": [
    "The phase transition temperature is around 2~3 K, since this is a very coarse example. The model can be improved by the following ways: \n",
    "\n",
    "- Obtain the accurate Heisenberg parameter J from first principles calculation.\n",
    "- Consider more interations from second or third nearest neighbors.\n",
    "- Increase the size of the model, expand to 3D model.\n",
    "- Paralize the calculation\n",
    "\n",
    "In the 3D Ising model, I will make the above improvements."
   ]
  }
 ],
 "metadata": {
  "anaconda-cloud": {},
  "kernelspec": {
   "display_name": "Python 2",
   "language": "python",
   "name": "python2"
  }
 },
 "nbformat": 4,
 "nbformat_minor": 0
}
