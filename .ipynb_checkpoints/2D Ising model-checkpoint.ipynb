{
 "cells": [
  {
   "cell_type": "markdown",
   "metadata": {},
   "source": [
    "# Monte Carlo simulation on 2D Ising model\n",
    "\n",
    "- Ruihao QIU -- qiuruihao@gmail.com\n",
    "\n",
    "This is a simple excisise of 2D Ising model.\n"
   ]
  },
  {
   "cell_type": "code",
   "execution_count": 48,
   "metadata": {
    "collapsed": false
   },
   "outputs": [
    {
     "name": "stdout",
     "output_type": "stream",
     "text": [
      "======================================================================\n",
      "Number of accepted steps:   2882\n",
      "Spin order of every MC step is save in file mc_data\n",
      "Average magnetization is -1.00\n",
      "====================================================================== \n",
      "\n",
      "======================================================================\n",
      "The initial spin order\n",
      "====================================================================== \n",
      "\n",
      "[[-1 -1 -1 -1 -1 -1  1  1  1 -1 -1  1  1  1 -1 -1 -1  1  1 -1]\n",
      " [ 1  1 -1  1 -1 -1 -1  1 -1  1  1  1 -1  1  1 -1  1 -1 -1 -1]\n",
      " [ 1 -1 -1 -1  1  1 -1 -1  1  1  1  1 -1 -1 -1  1 -1 -1 -1  1]\n",
      " [ 1 -1 -1 -1 -1 -1 -1 -1  1  1  1 -1  1  1  1  1 -1  1 -1 -1]\n",
      " [ 1 -1  1  1  1  1  1  1  1 -1 -1  1  1 -1 -1 -1  1  1 -1 -1]\n",
      " [-1  1 -1 -1 -1  1 -1  1 -1 -1 -1  1 -1  1  1  1  1  1 -1  1]\n",
      " [ 1 -1  1 -1  1  1  1 -1  1 -1 -1 -1 -1  1 -1 -1 -1 -1  1 -1]\n",
      " [ 1 -1  1  1  1 -1 -1  1  1 -1 -1  1  1 -1 -1 -1 -1  1  1  1]\n",
      " [-1  1 -1  1  1  1 -1  1  1 -1 -1 -1  1 -1 -1  1  1 -1  1 -1]\n",
      " [ 1 -1  1 -1  1 -1  1  1  1 -1 -1 -1  1 -1 -1  1  1 -1  1  1]\n",
      " [ 1  1 -1 -1  1 -1  1 -1 -1 -1  1 -1  1 -1 -1  1 -1  1  1  1]\n",
      " [ 1 -1  1 -1 -1 -1  1  1  1 -1 -1 -1 -1 -1 -1  1 -1 -1 -1 -1]\n",
      " [ 1 -1  1  1 -1 -1  1  1 -1  1  1 -1  1 -1 -1  1 -1 -1  1  1]\n",
      " [-1  1 -1 -1 -1 -1  1  1  1  1 -1 -1 -1 -1  1  1  1  1 -1 -1]\n",
      " [-1 -1 -1  1 -1 -1 -1  1  1  1 -1 -1 -1  1 -1  1  1 -1  1  1]\n",
      " [-1 -1 -1  1 -1 -1 -1  1 -1 -1  1  1  1  1 -1  1  1  1  1  1]\n",
      " [ 1  1 -1 -1 -1 -1  1  1 -1  1 -1 -1  1 -1 -1 -1  1  1 -1 -1]\n",
      " [-1  1 -1 -1  1 -1 -1 -1  1  1  1 -1  1  1  1 -1 -1 -1  1  1]\n",
      " [ 1  1  1  1 -1  1  1  1 -1  1 -1 -1  1 -1 -1 -1  1  1 -1  1]\n",
      " [-1 -1  1  1 -1  1  1  1 -1 -1 -1 -1 -1  1 -1  1 -1  1 -1 -1]] \n",
      "\n",
      "======================================================================\n",
      "The final spinal order\n",
      "====================================================================== \n",
      "\n",
      "[[-1 -1 -1 -1 -1 -1 -1 -1 -1 -1 -1 -1 -1 -1 -1 -1 -1 -1 -1 -1]\n",
      " [-1 -1 -1 -1 -1 -1 -1 -1 -1 -1 -1 -1 -1 -1 -1 -1 -1 -1 -1 -1]\n",
      " [-1 -1 -1 -1 -1 -1 -1 -1 -1 -1 -1 -1 -1 -1 -1 -1 -1 -1 -1 -1]\n",
      " [-1 -1 -1 -1 -1 -1 -1 -1 -1 -1 -1 -1 -1 -1 -1 -1 -1 -1 -1 -1]\n",
      " [-1 -1 -1 -1 -1 -1 -1 -1 -1 -1 -1 -1 -1 -1 -1 -1 -1 -1 -1 -1]\n",
      " [-1 -1 -1 -1 -1 -1 -1 -1 -1 -1 -1 -1 -1 -1 -1 -1 -1 -1 -1 -1]\n",
      " [-1 -1 -1 -1 -1 -1 -1 -1 -1 -1 -1 -1 -1 -1 -1 -1 -1 -1 -1 -1]\n",
      " [-1 -1 -1 -1 -1 -1 -1 -1 -1 -1 -1 -1 -1 -1 -1 -1 -1 -1 -1 -1]\n",
      " [-1 -1 -1 -1 -1 -1 -1 -1 -1 -1 -1 -1 -1 -1 -1 -1 -1 -1 -1 -1]\n",
      " [-1 -1 -1 -1 -1 -1 -1 -1 -1 -1 -1 -1 -1 -1 -1 -1 -1 -1 -1 -1]\n",
      " [-1 -1 -1 -1 -1 -1 -1 -1 -1 -1 -1 -1 -1 -1 -1 -1 -1 -1 -1 -1]\n",
      " [-1 -1 -1 -1 -1 -1 -1 -1 -1 -1 -1 -1 -1 -1 -1 -1 -1 -1 -1 -1]\n",
      " [-1 -1 -1 -1 -1 -1 -1 -1 -1 -1 -1 -1 -1 -1 -1 -1 -1 -1 -1 -1]\n",
      " [-1 -1 -1 -1 -1 -1 -1 -1 -1 -1 -1 -1 -1 -1 -1 -1 -1 -1 -1 -1]\n",
      " [-1 -1 -1 -1 -1 -1 -1 -1 -1 -1 -1 -1 -1 -1 -1 -1 -1 -1 -1 -1]\n",
      " [-1 -1 -1 -1 -1 -1 -1 -1 -1 -1 -1 -1 -1 -1 -1 -1 -1 -1 -1 -1]\n",
      " [-1 -1 -1 -1 -1 -1 -1 -1 -1 -1 -1 -1 -1 -1 -1 -1 -1 -1 -1 -1]\n",
      " [-1 -1 -1 -1 -1 -1 -1 -1 -1 -1 -1 -1 -1 -1 -1 -1 -1 -1 -1 -1]\n",
      " [-1 -1 -1 -1 -1 -1 -1 -1 -1 -1 -1 -1 -1 -1 -1 -1 -1 -1 -1 -1]\n",
      " [-1 -1 -1 -1 -1 -1 -1 -1 -1 -1 -1 -1 -1 -1 -1 -1 -1 -1 -1 -1]] \n",
      "\n"
     ]
    }
   ],
   "source": [
    "#----------------------------------------------------------------------#\n",
    "#   Import modules\n",
    "#----------------------------------------------------------------------#\n",
    "import numpy as np\n",
    "import matplotlib.pyplot as plt\n",
    "import matplotlib.animation as animation\n",
    "import matplotlib.patches as patches\n",
    "from matplotlib.collections import PatchCollection\n",
    "%matplotlib inline\n",
    "\n",
    "#----------------------------------------------------------------------#\n",
    "#   Monte Carlo simulation parameters\n",
    "#----------------------------------------------------------------------#\n",
    "SIZE = 20                          # MC size SIZE * SIZE\n",
    "STEPS = 100000                     # MC steps\n",
    "T = 1                              # MC temperature (unit: K)\n",
    "J = 1.0                            # Heisenberg interaction parameter \n",
    "                                   # (unit: meV)\n",
    "\n",
    "#----------------------------------------------------------------------#\n",
    "#   Define a function myFloat transform myList to float\n",
    "#----------------------------------------------------------------------#\n",
    "def myFloat(myList):\n",
    "    return map(float, myList)\n",
    "\n",
    "\n",
    "#----------------------------------------------------------------------#\n",
    "#   Check periodic boundary conditions \n",
    "#----------------------------------------------------------------------#\n",
    "def bc(i):\n",
    "    if i+1 > SIZE-1:\n",
    "        return 0\n",
    "    if i-1 < 0:\n",
    "        return SIZE-1\n",
    "    else:\n",
    "        return i\n",
    "\n",
    "\n",
    "#----------------------------------------------------------------------#\n",
    "#   Calculate energy (nearest interations) \n",
    "#----------------------------------------------------------------------#\n",
    "def energy(system, N, M):\n",
    "    return -1 * system[N,M] * J * (system[bc(N-1), M]\n",
    "                               + system[bc(N+1), M]\n",
    "                               + system[N, bc(M-1)]\n",
    "                               + system[N, bc(M+1)])\n",
    "\n",
    "\n",
    "#----------------------------------------------------------------------#\n",
    "#   Build the system\n",
    "#----------------------------------------------------------------------#\n",
    "def build_system():\n",
    "    sys = np.random.randint(2,size=(SIZE,SIZE))\n",
    "    sys[sys==0] = -1\n",
    "\n",
    "    return sys\n",
    "\n",
    "init_system = build_system()        # Initial spin order\n",
    "\n",
    "\n",
    "#----------------------------------------------------------------------#\n",
    "#   Monte carlo loops\n",
    "#----------------------------------------------------------------------#\n",
    "def MC_loop(T, init_system):\n",
    "    system = init_system.copy()         # .copy() is a deep copy method, \n",
    "                                        # otherwise the 'init_system' will change when 'system' changes\n",
    "#    f = open('mc_data', 'w')           # Spin order of each accepted MC step for visualization\n",
    "    n_acpt = 0                          # Number of accepted MC steps\n",
    "\n",
    "    for step, x in enumerate(range(STEPS)):\n",
    "        M = np.random.randint(0,SIZE)\n",
    "        N = np.random.randint(0,SIZE)\n",
    "\n",
    "        E = -2. * energy(system, N, M)\n",
    "\n",
    "        if E <= 0.:\n",
    "            system[N,M] *= -1\n",
    "#            np.savetxt(f,system,fmt='%3d')      # Save spin order for every accepted MC step for visualization\n",
    "            n_acpt = n_acpt + 1\n",
    "\n",
    "        elif np.exp(-1./T*E) > np.random.rand():\n",
    "            system[N,M] *= -1\n",
    "#            np.savetxt(f,system,fmt='%3d')\n",
    "            n_acpt = n_acpt + 1\n",
    "    return system, n_acpt\n",
    "#    f.close()\n",
    "\n",
    "\n",
    "final_system = MC_loop(T, init_system)[0]\n",
    "n_acpt = MC_loop(T, init_system)[1]\n",
    "\n",
    "#----------------------------------------------------------------------#\n",
    "#   calculate average magnetization\n",
    "#----------------------------------------------------------------------#\n",
    "def ave_mag(system):\n",
    "    return np.sum(np.sum(system, axis=0))*1.0/SIZE**2\n",
    "\n",
    "\n",
    "#----------------------------------------------------------------------#\n",
    "#   Monte carlo outputs\n",
    "#----------------------------------------------------------------------#\n",
    "def outputs():\n",
    "    print '='*70\n",
    "    print 'Number of accepted steps: {:6d}'.format(n_acpt)\n",
    "    print 'Spin order of every MC step is save in file mc_data'\n",
    "    print 'Average magnetization is {:4.2f}'.format(ave_mag(final_system))\n",
    "    print '='*70,'\\n'\n",
    "\n",
    "    print '='*70\n",
    "    print 'The initial spin order'\n",
    "    print '='*70,'\\n'\n",
    "    print init_system,'\\n'\n",
    "\n",
    "    print '='*70\n",
    "    print 'The final spinal order'\n",
    "    print '='*70,'\\n'\n",
    "    print final_system,'\\n'\n",
    "\n",
    "outputs()"
   ]
  },
  {
   "cell_type": "markdown",
   "metadata": {},
   "source": [
    "## Visualize the MC process\n",
    "\n",
    "### Visualize spin configurations with vectors"
   ]
  },
  {
   "cell_type": "code",
   "execution_count": 9,
   "metadata": {
    "collapsed": false
   },
   "outputs": [],
   "source": [
    "#----------------------------------------------------------------------#\n",
    "#   Plot arrow spin vectors\n",
    "#----------------------------------------------------------------------#\n",
    "fig, ax = plt.subplots()\n",
    "plt.xlim(-1,SIZE)\n",
    "plt.ylim(-1,SIZE)\n",
    "\n",
    "X, Y = np.meshgrid(np.arange(0, SIZE), np.arange(0, SIZE))\n",
    "U = 0\n",
    "V = init_system[X,Y]\n",
    "C = V\n",
    "\n",
    "Q = plt.quiver(X, Y, U, V, C, cmap=plt.cm.seismic, pivot='middle')\n",
    "\n",
    "f = open(\"mc_data\",\"r\")\n",
    "out = [line.split() for line in f]\n",
    "data = map(myFloat,out)\n",
    "f.close()\n",
    "\n",
    "def animate(i):\n",
    "    U = 0\n",
    "    V = data[i*SIZE:(i+1)*SIZE]\n",
    "    C = V\n",
    "    Q.set_UVC(U,V,C)\n",
    "    return Q\n",
    "\n",
    "ani = animation.FuncAnimation(fig, animate, interval=20)\n",
    "\n",
    "## Save the animation as .mp4 or .gif file\n",
    "\n",
    "#ani.save('2d_vector.mp4', writer=\"ffmpeg\", fps=10, dpi=400)\n",
    "#ani.save('2d_color.gif', writer=\"imagemagick\", fps=10)\n",
    "#plt.show()"
   ]
  },
  {
   "cell_type": "markdown",
   "metadata": {},
   "source": [
    "<img src=\"data-and-images/2d_vector.gif\">"
   ]
  },
  {
   "cell_type": "markdown",
   "metadata": {},
   "source": [
    "### Visualize spin configurations with colored squares"
   ]
  },
  {
   "cell_type": "code",
   "execution_count": 10,
   "metadata": {
    "collapsed": true
   },
   "outputs": [],
   "source": [
    "#----------------------------------------------------------------------#\n",
    "#   Plot color field\n",
    "#----------------------------------------------------------------------#\n",
    "\n",
    "fig, ax = plt.subplots()\n",
    "plt.xlim(0,SIZE)\n",
    "plt.ylim(0,SIZE)\n",
    "\n",
    "X, Y = np.meshgrid(np.arange(0, SIZE), np.arange(0, SIZE))\n",
    "C = init_system[X, Y]\n",
    "\n",
    "patches = []\n",
    "for i in range(SIZE):\n",
    "    for j in range(SIZE):\n",
    "        a = plt.Rectangle((X[i, j], Y[i, j]), 1.0, 1.0, ec='none')\n",
    "        patches.append(a)\n",
    "\n",
    "colors = C.reshape(1,-1)[0]\n",
    "p = PatchCollection(patches, cmap=plt.cm.seismic)\n",
    "p.set_array(np.array(colors))\n",
    "ax.add_collection(p)\n",
    "\n",
    "f = open(\"mc_data\",\"r\")\n",
    "out = [line.split() for line in f]\n",
    "data = map(myFloat,out)\n",
    "f.close()\n",
    "\n",
    "def animate(i):\n",
    "    C = np.asarray(data[i*SIZE:(i+1)*SIZE])\n",
    "    colors = C.reshape(1,-1)[0]\n",
    "    p.set_array(np.array(colors))\n",
    "    return p\n",
    "\n",
    "ani = animation.FuncAnimation(fig, animate, interval=10, save_count=n_acpt)\n",
    "#ani.save('2d_color.gif', writer=\"imagemagick\", fps=10)\n",
    "#plt.show()\n"
   ]
  },
  {
   "cell_type": "markdown",
   "metadata": {},
   "source": [
    "<img src=\"data-and-images/2d_color.gif\">"
   ]
  },
  {
   "cell_type": "markdown",
   "metadata": {},
   "source": [
    "### Estimate the phase tranisition temperature"
   ]
  },
  {
   "cell_type": "code",
   "execution_count": 53,
   "metadata": {
    "collapsed": false
   },
   "outputs": [
    {
     "name": "stdout",
     "output_type": "stream",
     "text": [
      "The average magnetization from 10K~1K:\n",
      "[0.080000000000000002, 0.050000000000000003, 0.01, 0.040000000000000001, 0.0, 0.14000000000000001, 0.0, 0.0, 0.11, 0.059999999999999998, 0.044999999999999998, 0.050000000000000003, 0.025000000000000001, 0.26000000000000001, 0.014999999999999999, 0.19, 0.87, 0.98999999999999999, 1.0]\n"
     ]
    }
   ],
   "source": [
    "#----------------------------------------------------------------------#\n",
    "#   Temperature vs. Magnetization\n",
    "#----------------------------------------------------------------------#\n",
    "Mag = []; Temp = [];\n",
    "for i in range(20,1,-1):\n",
    "    T = i*1.0/2\n",
    "    Temp.append(T)\n",
    "    final_system = MC_loop(T, init_system)[0]\n",
    "    Mag.append(abs(ave_mag(final_system)))\n",
    "    init_system = final_system.copy()\n",
    "print 'The average magnetization from 10K~1K:'\n",
    "print Mag"
   ]
  },
  {
   "cell_type": "code",
   "execution_count": 56,
   "metadata": {
    "collapsed": false
   },
   "outputs": [
    {
     "data": {
      "image/png": "[encoded data removed]",
      "text/plain": [
       "<matplotlib.figure.Figure at 0x11000b4d0>"
      ]
     },
     "metadata": {},
     "output_type": "display_data"
    }
   ],
   "source": [
    "plt.plot(Temp, Mag)\n",
    "plt.xlabel('Temperature (K)')\n",
    "plt.ylabel('Average magnetization')\n",
    "plt.show()"
   ]
  },
  {
   "cell_type": "markdown",
   "metadata": {},
   "source": [
    "The phase transition temperature is around 2~3 K, since this is a very coarse example. The model can be improved by the following ways: \n",
    "\n",
    "- Obtain the accurate Heisenberg parameter J from first principles calculation.\n",
    "- Consider more interations from second or third nearest neighbors.\n",
    "- Increase the size of the model, expand to 3D model.\n",
    "\n",
    "In the 3D Ising model, I will make the above improvements."
   ]
  }
 ],
 "metadata": {
  "kernelspec": {
   "display_name": "Python 2",
   "language": "python",
   "name": "python2"
  },
  "language_info": {
   "codemirror_mode": {
    "name": "ipython",
    "version": 2
   },
   "file_extension": ".py",
   "mimetype": "text/x-python",
   "name": "python",
   "nbconvert_exporter": "python",
   "pygments_lexer": "ipython2",
   "version": "2.7.11"
  }
 },
 "nbformat": 4,
 "nbformat_minor": 0
}
