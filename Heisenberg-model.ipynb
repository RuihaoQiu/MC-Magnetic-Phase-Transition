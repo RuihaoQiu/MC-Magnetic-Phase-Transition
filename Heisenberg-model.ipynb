{
 "cells": [
  {
   "cell_type": "markdown",
   "metadata": {},
   "source": [
    "# Heisenberg Model\n",
    "\n",
    "For the multifunctional materials, rare-earth manganites EuMnO$_3$, which is <i>Pbmn</i> orthorhombic structure. We construct the its Hamiltonian including a biquadratic coupling term:\n",
    "\n",
    "$$\\mathcal{H} = \\sum\\limits_{ \\langle n,m \\rangle }^{ab} [J_{ab}{\\mathbf S}_n \\cdot {\\mathbf S}_m + B ({\\mathbf S}_n \\cdot {\\mathbf S}_m)^2] + J_{c}\\sum\\limits_{ \\langle n,m \\rangle }^{c} {\\mathbf S}_n \\cdot {\\mathbf S}_m\\nonumber + J_{a}\\sum\\limits_{ \\langle\\langle n,m \\rangle\\rangle }^{ab} {\\mathbf S}_n \\cdot {\\mathbf S}_m .$$\n",
    "\n",
    "Here $J_{ab}$ and $J_a$ represent nearest- and second-nearest-neighbor interactions in the <i>ab</i> plane, and $J_c$ nearest-neighbor interaction along the <i>c</i> axis.\n",
    "For each atom, there are 4 in-plane nearest neighbors, 2 nearest neighbors along <i>c</i> direction and 4 in-plane second-nearest neighbors.\n",
    "\n",
    "In order to determine the parameters Js, we compute the energy associated to the FM, A-, C-, E-AFM and 90$^{\\circ}$ S-AFM.\n",
    "In the orthorhombic EuMnO$_3$ perovskite structure, each Mn ion is surrounded by 6 nearest neighbors (four are in <i>ab</i>-plane and two are out of plane), and 12 next second-nearest neighbors (we only consider four of them in <i>ab</i>-plane). \n",
    "In terms of the above Hamiltonian, these energies read:\n",
    "\n",
    "\\begin{align}\n",
    "E_{FM} &= {E_0} + 4{J_{ab}}{S^2} + 2{J_c}{S^2} + 4{J_a}{S^2} + 4B{S^4},\\\\\n",
    "E_{A - AFM} &= {E_0} + 4{J_{ab}}{S^2} - 2{J_c}{S^2} + 4{J_a}{S^2} + 4B{S^4},\\\\\n",
    "E_{C - AFM} &= {E_0} - 4{J_{ab}}{S^2} + 2{J_c}{S^2} + 4{J_a}{S^2} + 4B{S^4},\\\\\n",
    "E_{E - AFM} &= {E_0} - 2{J_c}{S^2} + 4B{S^4},\\\\\n",
    "E_{S - AFM} &= {E_0} - 2{J_c}{S^2},\n",
    "\\end{align}\n",
    "\n",
    "respectively. S=2 is the total spin of Mn3+.\n",
    "\n",
    "So, all what we need is just to solve a linear equation $AJ = E$.\n"
   ]
  },
  {
   "cell_type": "code",
   "execution_count": 3,
   "metadata": {
    "collapsed": false
   },
   "outputs": [
    {
     "name": "stdout",
     "output_type": "stream",
     "text": [
      "======================================================================\n",
      "Interaction parameters (unit: meV)\n",
      "======================================================================\n",
      " J_ab    J_c     J_a     B\n",
      "-1.666,  2.114,  0.763, -0.061\n",
      "\n"
     ]
    }
   ],
   "source": [
    "#----------------------------------------------------------------------\n",
    "# Import modules\n",
    "#----------------------------------------------------------------------\n",
    "import numpy as np\n",
    "from numpy import array as npa\n",
    "import math\n",
    "\n",
    "#----------------------------------------------------------------------\n",
    "# Constants used in this work\n",
    "#----------------------------------------------------------------------\n",
    "NFU = 8              # number of formula\n",
    "S = 2.0              # Mn3+ spin\n",
    "etom = 1000          # transfer from eV to meV\n",
    "\n",
    "#----------------------------------------------------------------------\n",
    "# Solve linear equation AJ = E\n",
    "#----------------------------------------------------------------------\n",
    "A = npa([[1, 4, 2, 4, 4*S**2],\n",
    "         [1, 4, -2, 4, 4*S**2],\n",
    "         [1, -4, 2, 4, 4*S**2],\n",
    "         [1, 0, -2, 0, 4*S**2],\n",
    "         [1, 0, -2, 0, 0]])\n",
    "# energy of magnetic order of FM, A-AFM, C-AFM, E-AFM, 90S-AFM correspondingly\n",
    "# they are obtained from first-priciples calculations\n",
    "E = npa([-345.8815, -346.0168, -345.6682, -345.9590, -345.9435])\n",
    "\n",
    "# Change the energy unit to meV/f.u.\n",
    "E = E/NFU/S**2*etom*2\n",
    "\n",
    "#----------------------------------------------------------------------\n",
    "# Solve linear eqution\n",
    "#----------------------------------------------------------------------\n",
    "J = np.linalg.solve(A, E)\n",
    "\n",
    "Jab = J[1];Jc = J[2];Ja = J[3];B = J[4];\n",
    "\n",
    "print '='*70\n",
    "print 'Interaction parameters (unit: meV)'\n",
    "print '='*70\n",
    "\n",
    "print ' J_ab    J_c     J_a     B'\n",
    "print '{:6.3f}, {:6.3f}, {:6.3f}, {:6.3f}\\n'.format(Jab, Jc, Ja, B)\n"
   ]
  },
  {
   "cell_type": "markdown",
   "metadata": {},
   "source": [
    "## Neel temperature\n",
    "\n",
    "<img src=\"data-and-images/lattice_Js.png\", style=\"width: 80%; height: 80%\">\n",
    "\n",
    "We can rewrite the hamiltonian above interactions (nearest-neighbor) in term of an effective magnetic field\n",
    "\n",
    "\\begin{equation}\n",
    "{\\mathcal{H}_i} = J{\\mathbf S}_i \\cdot \\sum\\limits_j^z {{\\mathbf S}_j} = -g\\mu_B {\\mathbf S}_i  \\cdot {\\mathbf H}_{eff}.\n",
    "\\end{equation}\n",
    "\n",
    "Then we have\n",
    "\n",
    "\\begin{equation}\n",
    "{\\mathbf H}_{eff} = - \\frac{{J}}{{g\\mu_B }}\\sum\\limits_j^z {{\\mathbf S}_j} = - \\frac{zJ}{g\\mu_B} \\langle {S_j} \\rangle,\n",
    "\\end{equation}\n",
    "\n",
    "here, we assume all magnetic atoms are identical and equivalent, $\\langle {S_j} \\rangle$ is related to the total magnetic moment by $M = Ng\\mu_B \\langle{S_j}\\rangle$, so that we can rewrite the $H_{eff}$\n",
    "\n",
    "$${\\mathbf H}_{eff} = -\\frac{{zJ}}{{N{g^2}{\\mu_B^2}}}{\\mathbf M}$$\n",
    "\n",
    "Therefore, we obtain the molecular field coefficient\n",
    "\\begin{equation}\n",
    "\\gamma  = - \\frac{{zJ}}{{N{g^2}{\\mu_B^2}}}.\n",
    "\\end{equation}\n",
    "\n",
    "The total field acting on an atom in the $i^{th}$ sublattice is\n",
    "\n",
    "\\begin{equation}\n",
    "{H_i} = {H_0} + \\sum\\limits_{k = 1}^n {{\\gamma _{ik}}{M_k}},\n",
    "\\end{equation}\n",
    "\n",
    "$M_k$ is the magnetic moment of the $k^{th}$ sublattice and ${\\gamma _{ik}}$ is the molecular field coefficient for the field acting on an atom in $i^{th}$ sublattice by its neighbors in $k^{th}$ sublattice, which is defined as:\n",
    "\n",
    "\\begin{equation}\n",
    "{\\gamma _{ik}} = \\left\\{ {\\begin{array}{*{20}{c}}\n",
    "0&{i = k}\\\\\n",
    "{ -\\frac{{n({z_{ik}}{J_{ik}})}}{{N{g^2}{{\\mu_B} ^2}}}}&{i \\ne k}\n",
    "\\end{array}} \\right .\n",
    "\\end{equation}\n",
    "\n",
    "The first case (${i = k}$) shows that an atom has no interactions with any neighbors of its own sublattice. \n",
    "For the second case (${i \\ne k}$), $n$ is the number of sublattices, $z_{ik}$ is the number of $k$th neighbors of $i$ atom, $J_{ik}$ is the exchange interaction between an $i$ atom and a $k$th neignbor atom, $N$ is the total number of atoms, $g$ and ${\\mu_B}$ are the Lande factor and Bohr magneton.\n",
    "It is convenient to consider only the high temperature approximation, we have\n",
    "\n",
    "\\begin{equation}\n",
    "\\begin{aligned}\n",
    "%\\begin{array}{c}\n",
    "{M_i} & = \\frac{C}{{nT}}{H_i} \\\\\n",
    " & = \\frac{C}{{nT}}({H_0} + \\sum\\limits_{k = 1}^n {{\\gamma _{ij}}{M_k}}) \\qquad {i = 1, 2, 3, ..., n.}\n",
    "%\\end{array}\n",
    "\\end{aligned}\n",
    "\\end{equation}\n",
    "\n",
    "This is a set of $n$ linear algebraic equations, we can write them explicitly\n",
    "\n",
    "\\begin{equation}\n",
    "\\begin{aligned}\n",
    "%\\begin{array}{*{20}{c}}\n",
    "{M_1} - \\frac{C}{{nT}}{\\gamma _{12}}{M_2} - ... - \\frac{C}{{nT}}{\\gamma _{1n}}{M_n} & = \\frac{C}{{nT}}{H_0}\\\\\n",
    " - \\frac{C}{{nT}}{\\gamma _{21}}{M_1} + {M_2} - ... - \\frac{C}{{nT}}{\\gamma _{2n}}{M_n} & = \\frac{C}{{nT}}{H_0}\\\\\n",
    "{... ... ...}\\\\\n",
    " - \\frac{C}{{nT}}{\\gamma _{n1}}{M_1} - \\frac{C}{{nT}}{\\gamma _{n2}}{M_2} - ...+ {M_n} & = \\frac{C}{{nT}}{H_0}.\n",
    "%\\end{array}\n",
    "\\end{aligned}\n",
    "\\end{equation}\n",
    "\n",
    "To determine the transition temperatures in the generalized molecular field theory, we can simply set $H_0 = 0$ and solve a linear homogeneous set of equations.\n",
    "We will have non-zero solutions for the $M_i$ only if the determinant of the coefficients is zero.\n",
    "\n",
    "\\begin{equation}\n",
    "\\left| {\\begin{array}{cccc}\n",
    "{\\frac{{nT}}{C}}&{ - {\\gamma _{12}}}&{...}&{ - {\\gamma _{1n}}}\\\\\n",
    "{ - {\\gamma _{21}}}&{\\frac{{nT}}{C}}&{...}&{ - {\\gamma _{2n}}}\\\\\n",
    "{...}&{...}&{...}&{...}\\\\\n",
    "{ - {\\gamma _{n1}}}&{ - {\\gamma _{n2}}}&{...}&{\\frac{{nT}}{C}}\n",
    "\\end{array}} \\right| = 0\n",
    "\\end{equation}\n",
    "\n",
    "Specifically, for <i>Pbmn</i> orthorhombic EuMnO$_3$ ($a*2b*c$), the above determinant can be simplied as\n",
    "\n",
    "\\begin{equation}\n",
    "\\left| {\\begin{array}{cccc}\n",
    "{T/C}&{ - {\\gamma _{1}/2}}&{- {\\gamma _{2}}}&{ - {\\gamma _{1}/2}}&{ - {\\gamma _{3}}}&{0}&{0}&{0}\\\\\n",
    "{ - {\\gamma _{1}/2}}&{T/C}&{ - {\\gamma _{1}/2}}&{- {\\gamma _{2}}}&{0}&{ - {\\gamma _{3}}}&{0}&{0}\\\\\n",
    "{- {\\gamma _{2}}}&{ - {\\gamma _{1}/2}}&{T/C}&{ - {\\gamma _{1}/2}}&{0}&{0}&{ - {\\gamma _{3}}}&{0}\\\\\n",
    "{ - {\\gamma _{1}/2}}&{- {\\gamma _{2}}}&{ - {\\gamma _{1}/2}}&{T/C}&{0}&{0}&{0}&{ - {\\gamma _{3}}}\\\\\n",
    "{ - {\\gamma _{3}}}&{0}&{0}&{0}&{T/C}&{ - {\\gamma _{1}/2}}&{- {\\gamma _{2}}}&{ - {\\gamma _{1}/2}}\\\\\n",
    "{0}&{ - {\\gamma _{3}}}&{0}&{0}&{ - {\\gamma _{1}/2}}&{T/C}&{ - {\\gamma _{1}/2}}&{- {\\gamma _{2}}}\\\\\n",
    "{0}&{0}&{ - {\\gamma _{3}}}&{0}&{- {\\gamma _{2}}}&{ - {\\gamma _{1}/2}}&{T/C}&{ - {\\gamma _{1}/2}}\\\\\n",
    "{0}&{0}&{0}&{ - {\\gamma _{3}}}&{ - {\\gamma _{1}/2}}&{- {\\gamma _{2}}}&{ - {\\gamma _{1}/2}}&{T/C}\\\\\n",
    "\\end{array}} \\right| = 0\n",
    "\\end{equation}\n",
    "\n",
    "the molecular field coefficient is \n",
    "\n",
    "$${\\gamma _{i}} = -\\frac{{z_{i}}{J_{i}}}{{N{g^2}{{\\mu_B} ^2}}}$$\n",
    "\n",
    "$J_{1}$,$J_{2}$,$J_{3}$ correspond to $J_{ab}$,$J_{a}$,$J_{c}$. And the Curie constant is\n",
    "\n",
    "$$C = \\frac{NS(S+1)}{3k_B}g^2 \\mu_B^2$$\n",
    "\n",
    "There will be eight solutions of the determinantal equation corresponding to different spin configurations.\n",
    "Only the solution \n",
    "\n",
    "$$T/C =  \\gamma _{1} + \\gamma _{2} - \\gamma _{3}$$\n",
    "\n",
    "corresponds to A-AFM state. we can obtain the expression of Neel temperature of A-AFM\n",
    "\n",
    "$$T_N^\\text{$A$-AFM} =  - {S(S+1)\\over 3 k_B } \\left( 4J_{ab} + 4J_a - 2J_c \\right)$$\n"
   ]
  },
  {
   "cell_type": "code",
   "execution_count": 4,
   "metadata": {
    "collapsed": false
   },
   "outputs": [
    {
     "name": "stdout",
     "output_type": "stream",
     "text": [
      "======================================================================\n",
      "Neel teperature (unit: K)\n",
      "======================================================================\n",
      "The Neel temperature: 181.980388 K \n",
      "\n"
     ]
    }
   ],
   "source": [
    "#----------------------------------------------------------------------\n",
    "# calc Tn from Js\n",
    "#----------------------------------------------------------------------           \n",
    "k_B = 8.617*10**(-2);           # Boltzmann constant meV/K\n",
    "n1 = 4; n2 = 4; n3 = 2;         # number of neighbors\n",
    "Tn = - S * (S + 1) * (n1*Jab + n2*Ja - n3*Jc) / 3 / k_B\n",
    "\n",
    "print '='*70\n",
    "print 'Neel teperature (unit: K)'\n",
    "print '='*70\n",
    "\n",
    "print 'The Neel temperature: {:4f} K \\n'.format(Tn)"
   ]
  },
  {
   "cell_type": "markdown",
   "metadata": {},
   "source": [
    "### Simple case\n",
    "\n",
    "We just consider 20 atom unit cell. There are only four type of spin orders: FM, A-, C-, G-AFM, The coresponding energy\n",
    "\n",
    "\\begin{align}\n",
    "E_{FM}      &= {E_0} + 4{J_{ab}}{S^2} + 2{J_c}{S^2} + 8{J_a}{S^2}\\\\\n",
    "E_{A - AFM} &= {E_0} + 4{J_{ab}}{S^2} - 2{J_c}{S^2} - 8{J_a}{S^2}\\\\\n",
    "E_{C - AFM} &= {E_0} - 4{J_{ab}}{S^2} + 2{J_c}{S^2} - 8{J_a}{S^2}\\\\\n",
    "E_{G - AFM} &= {E_0} - 4{J_{ab}}{S^2} - 2{J_c}{S^2} + 8{J_a}{S^2}\\\\\n",
    "\\end{align}"
   ]
  },
  {
   "cell_type": "code",
   "execution_count": 9,
   "metadata": {
    "collapsed": false
   },
   "outputs": [
    {
     "name": "stdout",
     "output_type": "stream",
     "text": [
      "======================================================================\n",
      "Interaction parameters (unit: meV)\n",
      "======================================================================\n",
      " J_ab    J_c     J_ac\n",
      "-2.121,  1.204,  0.228\n",
      "\n"
     ]
    }
   ],
   "source": [
    "#----------------------------------------------------------------------\n",
    "# Solve linear equation AJ = E\n",
    "#----------------------------------------------------------------------\n",
    "A2 =npa([[1,  4,  2,  8],  # F\n",
    "         [1,  4, -2, -8],  # A\n",
    "         [1, -4,  2, -8],  # C\n",
    "         [1, -4, -2,  8]]) # G\n",
    "# energy of magnetic order of FM, A-AFM, C-AFM, E-AFM, 90S-AFM correspondingly\n",
    "# they are obtained from first-priciples calculations\n",
    "E2 = npa([-345.8815, -346.0168, -345.6682, -345.6870])\n",
    "\n",
    "# Change the energy unit to meV/f.u.\n",
    "E2 = E2/NFU/S**2*etom*2\n",
    "\n",
    "#----------------------------------------------------------------------\n",
    "# Solve linear eqution\n",
    "#----------------------------------------------------------------------\n",
    "J = np.linalg.solve(A2, E2)\n",
    "\n",
    "Jab = J[1];Jc = J[2];Ja = J[3];\n",
    "\n",
    "print '='*70\n",
    "print 'Interaction parameters (unit: meV)'\n",
    "print '='*70\n",
    "\n",
    "print ' J_ab    J_c     J_ac'\n",
    "print '{:6.3f}, {:6.3f}, {:6.3f}\\n'.format(Jab, Jc, Ja)"
   ]
  },
  {
   "cell_type": "code",
   "execution_count": 10,
   "metadata": {
    "collapsed": false
   },
   "outputs": [
    {
     "name": "stdout",
     "output_type": "stream",
     "text": [
      "The Neel temperature: 295.092550\n",
      "\n"
     ]
    }
   ],
   "source": [
    "n1 = 4; n2 = 2; n3 = 8;          # number of neighbors                 \n",
    "Tn = - S * (S + 1) * ( n1*Jab - n2*Jc - n3*Ja) / 3 / k_B              \n",
    "print 'The Neel temperature: {:4f}\\n'.format(Tn)"
   ]
  },
  {
   "cell_type": "markdown",
   "metadata": {},
   "source": [
    "### More interations\n",
    "\n",
    "The energy of FM, A-, C-, G-AFM and 90S-AFM\n",
    "\\begin{align}\n",
    "E_{FM}      &= {E_0} + 4{J_{ab}}{S^2} + 2{J_c}{S^2} + 4{J_{a1}}{S^2} + 8{J_{a2}}{S^2} + 4B{S^4},\\\\\n",
    "E_{A - AFM} &= {E_0} + 4{J_{ab}}{S^2} - 2{J_c}{S^2} + 4{J_{a1}}{S^2} - 8{J_{a2}}{S^2} + 4B{S^4},\\\\\n",
    "E_{C - AFM} &= {E_0} - 4{J_{ab}}{S^2} + 2{J_c}{S^2} + 4{J_{a1}}{S^2} - 8{J_{a2}}{S^2} + 4B{S^4},\\\\\n",
    "E_{G - AFM} &= {E_0} - 4{J_{ab}}{S^2} - 2{J_c}{S^2} + 4{J_{a1}}{S^2} + 8{J_{a2}}{S^2} + 4B{S^4},\\\\\n",
    "E_{E - AFM} &= {E_0}                  - 2{J_c}{S^2} - 4{J_{a1}}{S^2} - 8{J_{a2}}{S^2} + 4B{S^4},\\\\\n",
    "E_{S - AFM} &= {E_0} - 2{J_c}{S^2},\n",
    "\\end{align}"
   ]
  },
  {
   "cell_type": "code",
   "execution_count": 8,
   "metadata": {
    "collapsed": false
   },
   "outputs": [
    {
     "name": "stdout",
     "output_type": "stream",
     "text": [
      "[ -2.16190609e+04  -2.12148437e+00   1.20390625e+00   1.67343750e+00\n",
      "   2.27539062e-01  -6.05468750e-02]\n",
      "======================================================================\n",
      "Interaction parameters (unit: meV)\n",
      "======================================================================\n",
      " J_ab    J_c     J_a1    J_a2    B\n",
      "-2.121,  1.204,  1.673,  0.228, -0.061\n",
      "\n"
     ]
    }
   ],
   "source": [
    "#----------------------------------------------------------------------\n",
    "# Solve linear equation AJ = E\n",
    "#----------------------------------------------------------------------\n",
    "A2 = npa([[1, 4,  2,  4,  8, 4*S**2], # F\n",
    "         [1,  4, -2,  4, -8, 4*S**2], # A\n",
    "         [1, -4,  2,  4, -8, 4*S**2], # C\n",
    "         [1, -4, -2,  4,  8, 4*S**2], # G\n",
    "         [1,  0, -2,  0,  0, 4*S**2], # E\n",
    "         [1,  0, -2,  0,  0, 0]])     # S \n",
    "# energy of magnetic order of FM, A-AFM, C-AFM, E-AFM, 90S-AFM correspondingly\n",
    "# they are obtained from first-priciples calculations\n",
    "E2 = npa([-345.8815, -346.0168, -345.6682, -345.6870, -345.9590, -345.9435])\n",
    "\n",
    "# Change the energy unit to meV/f.u.\n",
    "E2 = E2/NFU/S**2*etom*2\n",
    "\n",
    "#----------------------------------------------------------------------\n",
    "# Solve linear eqution\n",
    "#----------------------------------------------------------------------\n",
    "J = np.linalg.solve(A2, E2)\n",
    "\n",
    "print J\n",
    "\n",
    "Jab = J[1];Jc = J[2];Ja1 = J[3]; Ja2 = J[4]; B = J[5];\n",
    "\n",
    "print '='*70\n",
    "print 'Interaction parameters (unit: meV)'\n",
    "print '='*70\n",
    "\n",
    "print ' J_ab    J_c     J_a1    J_a2    B'\n",
    "print '{:6.3f}, {:6.3f}, {:6.3f}, {:6.3f}, {:6.3f}\\n'.format(Jab, Jc, Ja1, Ja2, B)"
   ]
  },
  {
   "cell_type": "code",
   "execution_count": null,
   "metadata": {
    "collapsed": true
   },
   "outputs": [],
   "source": []
  }
 ],
 "metadata": {
  "kernelspec": {
   "display_name": "Python 2",
   "language": "python",
   "name": "python2"
  },
  "language_info": {
   "codemirror_mode": {
    "name": "ipython",
    "version": 2
   },
   "file_extension": ".py",
   "mimetype": "text/x-python",
   "name": "python",
   "nbconvert_exporter": "python",
   "pygments_lexer": "ipython2",
   "version": "2.7.11"
  }
 },
 "nbformat": 4,
 "nbformat_minor": 0
}
