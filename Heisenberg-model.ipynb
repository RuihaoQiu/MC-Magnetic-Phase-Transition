{
 "cells": [
  {
   "cell_type": "markdown",
   "metadata": {},
   "source": [
    "# Heisenberg Model\n",
    "\n",
    "For the multifunctional materials, such as rare-earth manganites <i>R</i>MnO$_3$ or rare-earth ferrites <i>R</i>FeO$_3$, with a <i>Pbmn</i> orthorhombic structure. We construct the general Hamiltonian:\n",
    "\n",
    "$$\\mathcal{H} = J_{n-ab}\\sum\\limits_{ \\langle n,m \\rangle }^{ab} {\\mathbf S}_n \\cdot {\\mathbf S}_m + \n",
    "J_{n-c}\\sum\\limits_{ \\langle n,m \\rangle }^{c} {\\mathbf S}_n \\cdot {\\mathbf S}_m\\nonumber + \n",
    "J_{nn-ab}\\sum\\limits_{ \\langle\\langle n,m \\rangle\\rangle }^{ab} {\\mathbf S}_n \\cdot {\\mathbf S}_m + \n",
    "J_{nn-c}\\sum\\limits_{ \\langle\\langle n,m \\rangle\\rangle }^{c} {\\mathbf S}_n \\cdot {\\mathbf S}_m\\nonumber .$$\n",
    "\n",
    "Here $J_{n-ab}$ and $J_{n-c}$ represent nearest interactions in and out of <i>ab</i> plane. $J_{nn-ab}$ and $J_{nn-c}$ next nearest interaction in and out of <i>ab</i> plane.\n",
    "For each atom, there are 4 in-plane nearest neighbors, 2 nearest neighbors along <i>c</i> direction, 4 in-plane next nearest neighbors and 8 out-of-plane next nearest neighbors.\n"
   ]
  },
  {
   "cell_type": "markdown",
   "metadata": {},
   "source": [
    "## Neel temperature\n",
    "#### by Mean-field theory\n",
    "\n",
    "We can rewrite the hamiltonian above interactions (nearest-neighbor) in term of an effective magnetic field\n",
    "\n",
    "\\begin{equation}\n",
    "{\\mathcal{H}_i} = J{\\mathbf S}_i \\cdot \\sum\\limits_j^z {{\\mathbf S}_j} = -g\\mu_B {\\mathbf S}_i  \\cdot {\\mathbf H}_{eff}.\n",
    "\\end{equation}\n",
    "\n",
    "Then we have\n",
    "\n",
    "\\begin{equation}\n",
    "{\\mathbf H}_{eff} = - \\frac{{J}}{{g\\mu_B }}\\sum\\limits_j^z {{\\mathbf S}_j} = - \\frac{zJ}{g\\mu_B} \\langle {S_j} \\rangle,\n",
    "\\end{equation}\n",
    "\n",
    "here, we assume all magnetic atoms are identical and equivalent, $\\langle {S_j} \\rangle$ is related to the total magnetic moment by $M = Ng\\mu_B \\langle{S_j}\\rangle$, so that we can rewrite the $H_{eff}$\n",
    "\n",
    "$${\\mathbf H}_{eff} = -\\frac{{zJ}}{{N{g^2}{\\mu_B^2}}}{\\mathbf M}$$\n",
    "\n",
    "Therefore, we obtain the molecular field coefficient\n",
    "\\begin{equation}\n",
    "\\gamma  = - \\frac{{zJ}}{{N{g^2}{\\mu_B^2}}}.\n",
    "\\end{equation}\n",
    "\n",
    "The total field acting on an atom in the $i^{th}$ sublattice is\n",
    "\n",
    "\\begin{equation}\n",
    "{H_i} = {H_0} + \\sum\\limits_{k = 1}^n {{\\gamma _{ik}}{M_k}},\n",
    "\\end{equation}\n",
    "\n",
    "$M_k$ is the magnetic moment of the $k^{th}$ sublattice and ${\\gamma _{ik}}$ is the molecular field coefficient for the field acting on an atom in $i^{th}$ sublattice by its neighbors in $k^{th}$ sublattice, which is defined as:\n",
    "\n",
    "\\begin{equation}\n",
    "{\\gamma _{ik}} = \\left\\{ {\\begin{array}{*{20}{c}}\n",
    "0&{i = k}\\\\\n",
    "{ -\\frac{{n({z_{ik}}{J_{ik}})}}{{N{g^2}{{\\mu_B} ^2}}}}&{i \\ne k}\n",
    "\\end{array}} \\right .\n",
    "\\end{equation}\n",
    "\n",
    "The first case (${i = k}$) shows that an atom has no interactions with any neighbors of its own sublattice. \n",
    "For the second case (${i \\ne k}$), $n$ is the number of sublattices, $z_{ik}$ is the number of $k$th neighbors of $i$ atom, $J_{ik}$ is the exchange interaction between an $i$ atom and a $k$th neignbor atom, $N$ is the total number of atoms, $g$ and ${\\mu_B}$ are the Lande factor and Bohr magneton.\n",
    "It is convenient to consider only the high temperature approximation, we have\n",
    "\n",
    "\\begin{equation}\n",
    "\\begin{aligned}\n",
    "%\\begin{array}{c}\n",
    "{M_i} & = \\frac{C}{{nT}}{H_i} \\\\\n",
    " & = \\frac{C}{{nT}}({H_0} + \\sum\\limits_{k = 1}^n {{\\gamma _{ij}}{M_k}}) \\qquad {i = 1, 2, 3, ..., n.}\n",
    "%\\end{array}\n",
    "\\end{aligned}\n",
    "\\end{equation}\n",
    "\n",
    "This is a set of $n$ linear algebraic equations, we can write them explicitly\n",
    "\n",
    "\\begin{equation}\n",
    "\\begin{aligned}\n",
    "%\\begin{array}{*{20}{c}}\n",
    "{M_1} - \\frac{C}{{nT}}{\\gamma _{12}}{M_2} - ... - \\frac{C}{{nT}}{\\gamma _{1n}}{M_n} & = \\frac{C}{{nT}}{H_0}\\\\\n",
    " - \\frac{C}{{nT}}{\\gamma _{21}}{M_1} + {M_2} - ... - \\frac{C}{{nT}}{\\gamma _{2n}}{M_n} & = \\frac{C}{{nT}}{H_0}\\\\\n",
    "{... ... ...}\\\\\n",
    " - \\frac{C}{{nT}}{\\gamma _{n1}}{M_1} - \\frac{C}{{nT}}{\\gamma _{n2}}{M_2} - ...+ {M_n} & = \\frac{C}{{nT}}{H_0}.\n",
    "%\\end{array}\n",
    "\\end{aligned}\n",
    "\\end{equation}\n",
    "\n",
    "To determine the transition temperatures in the generalized molecular field theory, we can simply set $H_0 = 0$ and solve a linear homogeneous set of equations.\n",
    "We will have non-zero solutions for the $M_i$ only if the determinant of the coefficients is zero.\n",
    "\n",
    "\\begin{equation}\n",
    "\\left| {\\begin{array}{cccc}\n",
    "{\\frac{{nT}}{C}}&{ - {\\gamma _{12}}}&{...}&{ - {\\gamma _{1n}}}\\\\\n",
    "{ - {\\gamma _{21}}}&{\\frac{{nT}}{C}}&{...}&{ - {\\gamma _{2n}}}\\\\\n",
    "{...}&{...}&{...}&{...}\\\\\n",
    "{ - {\\gamma _{n1}}}&{ - {\\gamma _{n2}}}&{...}&{\\frac{{nT}}{C}}\n",
    "\\end{array}} \\right| = 0\n",
    "\\end{equation}\n",
    "\n"
   ]
  },
  {
   "cell_type": "markdown",
   "metadata": {},
   "source": [
    "## <i>R</i>FeO$_3$\n",
    "### <i>J</i>'s\n",
    "In order to determine the parameters <i>J</i>'s, we compute the energy associated to the FM, A-, C-, G-AFM spin orders on the irons (for simplicity, we consider iron-iron interation first).\n",
    "Each Fe ion is surrounded by 6 nearest neighbors (4 in-plane and 2 out-of-plane neighbors), and 8 next next nearest out-of-plane neighbors (4 in-plane next nearest neighbors are neglected because we use a 20 atom unit cell). \n",
    "In terms of the above Hamiltonian, these energies read:\n",
    "\n",
    "\\begin{align}\n",
    "E_{FM}    &= E_0 + 4J_{n-ab}{S^2} + 2J_{n-c}{S^2} + 8J_{nn-c}{S^2},\\\\\n",
    "E_{A-AFM} &= E_0 + 4J_{n-ab}{S^2} - 2J_{n-c}{S^2} - 8J_{nn-c}{S^2},\\\\\n",
    "E_{C-AFM} &= E_0 - 4J_{n-ab}{S^2} + 2J_{n-c}{S^2} - 8J_{nn-c}{S^2},\\\\\n",
    "E_{G-AFM} &= E_0 - 4J_{n-ab}{S^2} - 2J_{n-c}{S^2} + 8J_{nn-c}{S^2} \\\\\n",
    "\\end{align}\n",
    "\n",
    "respectively. S=2.5 is the total spin of Fe$^{3+}$.\n",
    "\n",
    "So, all what we need is just to solve a linear equation $AJ = E$."
   ]
  },
  {
   "cell_type": "code",
   "execution_count": 2,
   "metadata": {
    "collapsed": false
   },
   "outputs": [
    {
     "name": "stdout",
     "output_type": "stream",
     "text": [
      "======================================================================\n",
      "Interaction parameters (unit: meV)\n",
      "======================================================================\n",
      " Jn_ab   Jn_c    Jnn_c\n",
      " 5.802,  5.448,  0.168\n",
      "\n"
     ]
    }
   ],
   "source": [
    "#----------------------------------------------------------------------\n",
    "# Import modules\n",
    "#----------------------------------------------------------------------\n",
    "import numpy as np\n",
    "from numpy import array as npa\n",
    "import math\n",
    "\n",
    "#----------------------------------------------------------------------\n",
    "# Constants used in this work\n",
    "#----------------------------------------------------------------------\n",
    "k_B = 8.617*10**(-2);   # Boltzmann constant meV/K\n",
    "NFU = 4                 # number of formula\n",
    "S = 2.5                 # Fe3+ spin\n",
    "etom = 1000             # transfer from eV to meV\n",
    "hatoev = 27             # transfer from hartree to eV\n",
    "\n",
    "#----------------------------------------------------------------------\n",
    "# Solve linear equation AJ = E\n",
    "#----------------------------------------------------------------------\n",
    "A = npa([[1,  4,  2,  8],\n",
    "         [1,  4, -2, -8],\n",
    "         [1, -4,  2, -8],\n",
    "         [1, -4, -2,  8]])\n",
    "\n",
    "# energy of magnetic order of FM, A-AFM, C-AFM, G-AFM correspondingly\n",
    "# keep spin order of R A-AFM\n",
    "# they are obtained from first-priciples calculations by ABINIT unit(Hartree)\n",
    "\n",
    "E = npa([-1143.761481, \n",
    "         -1143.772816, \n",
    "         -1143.784215, \n",
    "         -1143.793057])\n",
    "\n",
    "E = 2*E/NFU/S**2*etom*hatoev            # Change the energy unit to meV/f.u.\n",
    "                                        # factor 2 is for the double counting\n",
    "\n",
    "J = np.linalg.solve(A, E)\n",
    "\n",
    "Jn_ab = J[1]; Jn_c = J[2]; Jnn_c = J[3];\n",
    "\n",
    "print '='*70\n",
    "print 'Interaction parameters (unit: meV)'\n",
    "print '='*70\n",
    "\n",
    "print ' Jn_ab   Jn_c    Jnn_c'\n",
    "print '{:6.3f}, {:6.3f}, {:6.3f}\\n'.format(Jn_ab, Jn_c, Jnn_c)"
   ]
  },
  {
   "cell_type": "markdown",
   "metadata": {},
   "source": [
    "### <i>T</i><sub>N</sub>\n",
    "\n",
    "In the 20 atom unit cell of <i>Pbmn</i> orthorhombic structure, the determinant can be writen as\n",
    "\n",
    "\\begin{equation}\n",
    "\\left| {\\begin{array}{cccc}\n",
    "{T/C}&{ - {\\gamma _{1}}}&{- {\\gamma _{2}}}&{ - {\\gamma _{3}}}\\\\\n",
    "{ - {\\gamma _{3}}}&{T/C}&{ - {\\gamma _{1}}}&{- {\\gamma _{2}}}\\\\\n",
    "{- {\\gamma _{2}}}&{ - {\\gamma _{3}}}&{T/C}&{ - {\\gamma _{1}}}\\\\\n",
    "{ - {\\gamma _{1}}}&{- {\\gamma _{2}}}&{ - {\\gamma _{3}}}&{T/C}\\\\\n",
    "\\end{array}} \\right| = 0\n",
    "\\end{equation}\n",
    "\n",
    "the molecular field coefficient is \n",
    "\n",
    "$${\\gamma _{i}} = -\\frac{{z_{i}}{J_{i}}}{{N{g^2}{{\\mu_B} ^2}}}$$\n",
    "\n",
    "$J_{1}$,$J_{2}$,$J_{3}$ correspond to $J_{n-ab}$,$J_{nn-c}$,$J_{n-c}$. And the Curie constant is\n",
    "\n",
    "$$C = \\frac{NS(S+1)}{3k_B}g^2 \\mu_B^2$$\n",
    "\n",
    "Only the solution \n",
    "\n",
    "$$T/C = - \\gamma _{1} + \\gamma _{2} - \\gamma _{3}$$\n",
    "\n",
    "corresponds to G-AFM state. we can obtain the expression of Neel temperature of G-AFM\n",
    "\n",
    "$$T_N^\\text{$G$-AFM} =  {S(S+1)\\over 3 k_B } \\left( z_1J_{n-ab} - z_2J_{nn-c} + z_3J_{n-c} \\right)$$\n"
   ]
  },
  {
   "cell_type": "code",
   "execution_count": 9,
   "metadata": {
    "collapsed": false
   },
   "outputs": [
    {
     "name": "stdout",
     "output_type": "stream",
     "text": [
      "======================================================================\n",
      "Neel teperature (unit: K)\n",
      "======================================================================\n",
      "The Neel temperature: -87.819891 K \n",
      "\n"
     ]
    }
   ],
   "source": [
    "#----------------------------------------------------------------------\n",
    "# calc Tn from Js\n",
    "#----------------------------------------------------------------------           \n",
    "\n",
    "z1 = 4; z2 = 8; z3 = 2;         # number of neighbors\n",
    "Tn = S * (S + 1) * (z1*Jn_ab - z2*Jnn_c + z3*Jn_c) / 3 / k_B\n",
    "\n",
    "print '='*70\n",
    "print 'Neel teperature (unit: K)'\n",
    "print '='*70\n",
    "\n",
    "print 'The Neel temperature: {:4f} K \\n'.format(Tn)"
   ]
  },
  {
   "cell_type": "markdown",
   "metadata": {},
   "source": [
    "## <i>R</i>MnO$_3$\n",
    "### <i>J</i>'s\n",
    "Here is a bit different with the above case, cause we are interested in the E-type AFM. For which we have to include the interation with in-plane next nearest neighbors but neglect out-of-plane next nearest neighbors.\n",
    "Therefore, we compute the energy of FM, A-, C-, E-AFM spin orders on the manganeses.\n",
    "Each Mn ion is surrounded by 6 nearest neighbors (4 in-plane and 2 out-of-plane), and 4 next next nearest in-plane neighbors (8 next nearest out-of-plane neighbors are neglected because we use a 40 atom $a*2b*c$ cell). \n",
    "In terms of the above Hamiltonian, these energies read:\n",
    "\n",
    "\\begin{align}\n",
    "E_{FM}    &= E_0 + 4J_{n-ab}{S^2} + 2J_{n-c}{S^2} + 4J_{nn-ab}{S^2},\\\\\n",
    "E_{A-AFM} &= E_0 + 4J_{n-ab}{S^2} - 2J_{n-c}{S^2} + 4J_{nn-ab}{S^2},\\\\\n",
    "E_{C-AFM} &= E_0 - 4J_{n-ab}{S^2} + 2J_{n-c}{S^2} + 4J_{nn-ab}{S^2},\\\\\n",
    "E_{E-AFM} &= E_0 -                  2J_{n-c}{S^2}                  \\\\\n",
    "\\end{align}\n",
    "\n",
    "respectively. S=2.5 is the total spin of Fe$^{3+}$.\n",
    "\n",
    "The same procedure as above, solve a linear equation $AJ = E$."
   ]
  },
  {
   "cell_type": "code",
   "execution_count": 6,
   "metadata": {
    "collapsed": false
   },
   "outputs": [
    {
     "name": "stdout",
     "output_type": "stream",
     "text": [
      "======================================================================\n",
      "Interaction parameters (unit: meV)\n",
      "======================================================================\n",
      "Jn_ab    Jn_c    Jnn_ab\n",
      "-1.666,  2.114,  0.763\n",
      "\n"
     ]
    }
   ],
   "source": [
    "#----------------------------------------------------------------------\n",
    "# Constants used in this work\n",
    "#----------------------------------------------------------------------\n",
    "S = 2.0              # Mn3+ spin\n",
    "NFU = 8\n",
    "\n",
    "#----------------------------------------------------------------------\n",
    "# Solve linear equation AJ = E\n",
    "#----------------------------------------------------------------------\n",
    "A = npa([[1,  4,  2,  4],\n",
    "         [1,  4, -2,  4],\n",
    "         [1, -4,  2,  4],\n",
    "         [1,  0, -2,  0]])\n",
    "\n",
    "# energy of magnetic order of FM, A-AFM, C-AFM, E-AFM correspondingly\n",
    "# they are obtained from first-priciples calculations by VASP (unit: eV)\n",
    "E = npa([-345.8815, -346.0168, -345.6682, -345.9590])\n",
    "\n",
    "E = 2*E/NFU/S**2*etom           # Change the energy unit to meV/f.u.\n",
    "\n",
    "J = np.linalg.solve(A, E)\n",
    "\n",
    "Jn_ab = J[1]; Jn_c = J[2]; Jnn_ab = J[3];\n",
    "\n",
    "print '='*70\n",
    "print 'Interaction parameters (unit: meV)'\n",
    "print '='*70\n",
    "\n",
    "print 'Jn_ab    Jn_c    Jnn_ab'\n",
    "print '{:6.3f}, {:6.3f}, {:6.3f}\\n'.format(Jn_ab, Jn_c, Jnn_ab)\n"
   ]
  },
  {
   "cell_type": "markdown",
   "metadata": {},
   "source": [
    "### <i>T</i><sub>N</sub>\n",
    "Specifically, for <i>Pbmn</i> orthorhombic EuMnO$_3$ (40 atom cell, $a*2b*c$), the above determinant can be simplied as\n",
    "\n",
    "\\begin{equation}\n",
    "\\left| {\\begin{array}{cccc}\n",
    "{T/C}&{ - {\\gamma _{1}/2}}&{- {\\gamma _{2}}}&{ - {\\gamma _{1}/2}}&{ - {\\gamma _{3}}}&{0}&{0}&{0}\\\\\n",
    "{ - {\\gamma _{1}/2}}&{T/C}&{ - {\\gamma _{1}/2}}&{- {\\gamma _{2}}}&{0}&{ - {\\gamma _{3}}}&{0}&{0}\\\\\n",
    "{- {\\gamma _{2}}}&{ - {\\gamma _{1}/2}}&{T/C}&{ - {\\gamma _{1}/2}}&{0}&{0}&{ - {\\gamma _{3}}}&{0}\\\\\n",
    "{ - {\\gamma _{1}/2}}&{- {\\gamma _{2}}}&{ - {\\gamma _{1}/2}}&{T/C}&{0}&{0}&{0}&{ - {\\gamma _{3}}}\\\\\n",
    "{ - {\\gamma _{3}}}&{0}&{0}&{0}&{T/C}&{ - {\\gamma _{1}/2}}&{- {\\gamma _{2}}}&{ - {\\gamma _{1}/2}}\\\\\n",
    "{0}&{ - {\\gamma _{3}}}&{0}&{0}&{ - {\\gamma _{1}/2}}&{T/C}&{ - {\\gamma _{1}/2}}&{- {\\gamma _{2}}}\\\\\n",
    "{0}&{0}&{ - {\\gamma _{3}}}&{0}&{- {\\gamma _{2}}}&{ - {\\gamma _{1}/2}}&{T/C}&{ - {\\gamma _{1}/2}}\\\\\n",
    "{0}&{0}&{0}&{ - {\\gamma _{3}}}&{ - {\\gamma _{1}/2}}&{- {\\gamma _{2}}}&{ - {\\gamma _{1}/2}}&{T/C}\\\\\n",
    "\\end{array}} \\right| = 0\n",
    "\\end{equation}\n",
    "\n",
    "the molecular field coefficient is \n",
    "\n",
    "$${\\gamma _{i}} = -\\frac{{z_{i}}{J_{i}}}{{N{g^2}{{\\mu_B} ^2}}}$$\n",
    "\n",
    "$J_{1}$,$J_{2}$,$J_{3}$ correspond to $Jn_{ab}$,$Jnn_{ab}$,$Jn_{c}$. And the Curie constant is\n",
    "\n",
    "$$C = \\frac{NS(S+1)}{3k_B}g^2 \\mu_B^2$$\n",
    "\n",
    "There will be eight solutions of the determinantal equation corresponding to different spin configurations.\n",
    "Only the solution \n",
    "\n",
    "$$T/C =  \\gamma _{1} + \\gamma _{2} - \\gamma _{3}$$\n",
    "\n",
    "corresponds to A-AFM state. we can obtain the expression of Neel temperature of A-AFM\n",
    "\n",
    "$$T_N^\\text{$A$-AFM} = - {S(S+1)\\over 3 k_B } \\left( z_1J_{n-ab} + z_2J_{nn-ab} - z_3J_{n-c} \\right)$$\n",
    "\n"
   ]
  },
  {
   "cell_type": "code",
   "execution_count": 10,
   "metadata": {
    "collapsed": false
   },
   "outputs": [
    {
     "name": "stdout",
     "output_type": "stream",
     "text": [
      "======================================================================\n",
      "Neel teperature (unit: K)\n",
      "======================================================================\n",
      "The Neel temperature: 181.980388 K \n",
      "\n"
     ]
    }
   ],
   "source": [
    "#----------------------------------------------------------------------\n",
    "# calc Tn from Js\n",
    "#----------------------------------------------------------------------           \n",
    "\n",
    "z1 = 4; z2 = 4; z3 = 2;         # number of neighbors\n",
    "Tn = - S * (S + 1) * (z1*Jn_ab + z2*Jnn_ab - z3*Jn_c) / 3 / k_B\n",
    "\n",
    "print '='*70\n",
    "print 'Neel teperature (unit: K)'\n",
    "print '='*70\n",
    "\n",
    "print 'The Neel temperature: {:4f} K \\n'.format(Tn)"
   ]
  },
  {
   "cell_type": "markdown",
   "metadata": {},
   "source": [
    "## More interations\n",
    "\n",
    "The energy of FM, A-, C-, G, E-AFM and 90S-AFM\n",
    "\\begin{align}\n",
    "E_{FM}      &= {E_0} + 4{J_{n-ab}}{S^2} + 2J_{n-c}{S^2} + 4{J_{nn-ab}}{S^2} + 8{J_{nn-c}}{S^2} + 4B{S^4},\\\\\n",
    "E_{A - AFM} &= {E_0} + 4{J_{n-ab}}{S^2} - 2J_{n-c}{S^2} + 4{J_{nn-ab}}{S^2} - 8{J_{nn-c}}{S^2} + 4B{S^4},\\\\\n",
    "E_{C - AFM} &= {E_0} - 4{J_{n-ab}}{S^2} + 2J_{n-c}{S^2} + 4{J_{nn-ab}}{S^2} - 8{J_{nn-c}}{S^2} + 4B{S^4},\\\\\n",
    "E_{G - AFM} &= {E_0} - 4{J_{n-ab}}{S^2} - 2J_{n-c}{S^2} + 4{J_{nn-ab}}{S^2} + 8{J_{nn-c}}{S^2} + 4B{S^4},\\\\\n",
    "E_{E - AFM} &= {E_0} - 2J_{n-c}{S^2} + 4B{S^4},\\\\\n",
    "E_{S - AFM} &= {E_0} - 2J_{n-c}{S^2},\n",
    "\\end{align}"
   ]
  },
  {
   "cell_type": "code",
   "execution_count": 14,
   "metadata": {
    "collapsed": false
   },
   "outputs": [
    {
     "name": "stdout",
     "output_type": "stream",
     "text": [
      "======================================================================\n",
      "Interaction parameters (unit: meV)\n",
      "======================================================================\n",
      "Jn_ab    Jn_c    Jnn_ab  Jnn_c  B\n",
      "-2.121,  1.204,  1.673,  0.228, -0.061\n",
      "\n"
     ]
    }
   ],
   "source": [
    "#----------------------------------------------------------------------\n",
    "# Constants used in this work\n",
    "#----------------------------------------------------------------------\n",
    "S = 2.0              # Mn3+ spin\n",
    "NFU = 8\n",
    "\n",
    "#----------------------------------------------------------------------\n",
    "# Solve linear equation AJ = E\n",
    "#----------------------------------------------------------------------\n",
    "A = npa([[1,  4,  2,  4,  8, 4*S**2], # F\n",
    "         [1,  4, -2,  4, -8, 4*S**2], # A\n",
    "         [1, -4,  2,  4, -8, 4*S**2], # C\n",
    "         [1, -4, -2,  4,  8, 4*S**2], # G\n",
    "         [1,  0, -2,  0,  0, 4*S**2], # E\n",
    "         [1,  0, -2,  0,  0, 0]])     # S \n",
    "\n",
    "# energy of magnetic order of FM, A-AFM, C-AFM, G-AFM, E-AFM, 90S-AFM correspondingly\n",
    "# they are obtained from first-priciples calculations\n",
    "E = npa([-345.8815, -346.0168, -345.6682, -345.6870, -345.9590, -345.9435])\n",
    "\n",
    "# Change the energy unit to meV/f.u.\n",
    "E = 2*E/NFU/S**2*etom\n",
    "\n",
    "#----------------------------------------------------------------------\n",
    "# Solve linear eqution\n",
    "#----------------------------------------------------------------------\n",
    "J = np.linalg.solve(A, E)\n",
    "\n",
    "Jn_ab = J[1]; Jn_c = J[2]; Jnn_ab = J[3]; Jnn_c = J[4]; B = J[5];\n",
    "\n",
    "print '='*70\n",
    "print 'Interaction parameters (unit: meV)'\n",
    "print '='*70\n",
    "\n",
    "print 'Jn_ab    Jn_c    Jnn_ab  Jnn_c  B'\n",
    "print '{:6.3f}, {:6.3f}, {:6.3f}, {:6.3f}, {:6.3f}\\n'.format(Jn_ab, Jn_c, Jnn_ab, Jnn_c, B)"
   ]
  },
  {
   "cell_type": "markdown",
   "metadata": {
    "collapsed": true
   },
   "source": [
    "Neel temperature of A-AFM\n",
    "\n",
    "$$T_N^\\text{$A$-AFM} = - {S(S+1)\\over 3 k_B } \\left( z_1J_{n-ab} + z_2J_{nn-ab} - z_3J_{n-c} - z_4J_{nn-c} \\right)$$"
   ]
  },
  {
   "cell_type": "code",
   "execution_count": 15,
   "metadata": {
    "collapsed": false
   },
   "outputs": [
    {
     "name": "stdout",
     "output_type": "stream",
     "text": [
      "======================================================================\n",
      "Neel teperature (unit: K)\n",
      "======================================================================\n",
      "The Neel temperature: 139.731055 K \n",
      "\n"
     ]
    }
   ],
   "source": [
    "#----------------------------------------------------------------------\n",
    "# calc Tn from Js\n",
    "#----------------------------------------------------------------------           \n",
    "\n",
    "z1 = 4; z2 = 4; z3 = 2; z4 = 8;         # number of neighbors\n",
    "Tn = - S * (S + 1) * (z1*Jn_ab + z2*Jnn_ab - z3*Jn_c - z4*Jnn_c) / 3 / k_B\n",
    "\n",
    "print '='*70\n",
    "print 'Neel teperature (unit: K)'\n",
    "print '='*70\n",
    "\n",
    "print 'The Neel temperature: {:4f} K \\n'.format(Tn)"
   ]
  },
  {
   "cell_type": "code",
   "execution_count": null,
   "metadata": {
    "collapsed": true
   },
   "outputs": [],
   "source": []
  }
 ],
 "metadata": {
  "kernelspec": {
   "display_name": "Python 2",
   "language": "python",
   "name": "python2"
  },
  "language_info": {
   "codemirror_mode": {
    "name": "ipython",
    "version": 2
   },
   "file_extension": ".py",
   "mimetype": "text/x-python",
   "name": "python",
   "nbconvert_exporter": "python",
   "pygments_lexer": "ipython2",
   "version": "2.7.12"
  }
 },
 "nbformat": 4,
 "nbformat_minor": 0
}
