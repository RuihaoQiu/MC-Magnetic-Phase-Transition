{
 "cells": [
  {
   "cell_type": "markdown",
   "metadata": {},
   "source": [
    "# Monte Carlo simulation on 2D Ising model\n",
    "\n",
    "This is a simple excisise of 2D Ising model.\n"
   ]
  },
  {
   "cell_type": "code",
   "execution_count": 1,
   "metadata": {
    "collapsed": false
   },
   "outputs": [
    {
     "name": "stdout",
     "output_type": "stream",
     "text": [
      "======================================================================\n",
      "\tMonte Carlo Statistics for an ising model with\n",
      "\t\tperiodic boundary conditions\n",
      "======================================================================\n",
      "[[-1 -1 -1 -1 -1 -1 -1 -1 -1 -1]\n",
      " [-1 -1 -1 -1 -1 -1 -1 -1 -1 -1]\n",
      " [-1 -1 -1 -1 -1 -1 -1 -1 -1 -1]\n",
      " [-1 -1 -1 -1 -1 -1 -1 -1 -1 -1]\n",
      " [-1 -1 -1 -1 -1 -1 -1 -1 -1 -1]\n",
      " [-1 -1 -1 -1 -1 -1 -1 -1 -1 -1]\n",
      " [-1 -1 -1 -1 -1 -1 -1 -1 -1 -1]\n",
      " [-1 -1 -1 -1 -1 -1 -1 -1 -1 -1]\n",
      " [-1 -1 -1 -1 -1 -1 -1 -1 -1 -1]\n",
      " [-1 -1 -1 -1 -1 -1 -1 -1 -1 -1]]\n"
     ]
    }
   ],
   "source": [
    "#----------------------------------------------------------------------#\n",
    "# Import operator numpy\n",
    "#----------------------------------------------------------------------#\n",
    "import numpy as np\n",
    "\n",
    "#----------------------------------------------------------------------#\n",
    "#   Check periodic boundary conditions \n",
    "#----------------------------------------------------------------------#\n",
    "def bc(i):\n",
    "    if i+1 > SIZE-1:\n",
    "        return 0\n",
    "    if i-1 < 0:\n",
    "        return SIZE-1\n",
    "    else:\n",
    "        return i\n",
    "\n",
    "#----------------------------------------------------------------------#\n",
    "#   Calculate energy (nearest interations) \n",
    "#----------------------------------------------------------------------#\n",
    "def energy(system, N, M):\n",
    "    return -1 * system[N,M] * (system[bc(N-1), M]\n",
    "                               + system[bc(N+1), M]\n",
    "                               + system[N, bc(M-1)]\n",
    "                               + system[N, bc(M+1)])\n",
    "\n",
    "\n",
    "#----------------------------------------------------------------------#\n",
    "#   Build the system\n",
    "#----------------------------------------------------------------------#\n",
    "def build_system():\n",
    "    system = np.random.randint(0,1,(SIZE,SIZE))\n",
    "    system[system==0] =- 1\n",
    "\n",
    "    return system\n",
    "\n",
    "system = build_system()\n",
    "\n",
    "#----------------------------------------------------------------------#\n",
    "#   Monte carlo loops\n",
    "#----------------------------------------------------------------------#\n",
    "\n",
    "SIZE = 10\n",
    "STEPS = 100000\n",
    "T = 0.1                           # MC calculation parameters\n",
    "\n",
    "def main():\n",
    "    system = build_system()\n",
    "    \n",
    "    for step, x in enumerate(range(STEPS)):\n",
    "        M = np.random.randint(0,SIZE)\n",
    "        N = np.random.randint(0,SIZE)\n",
    "\n",
    "        E = -2. * energy(system, N, M)\n",
    "\n",
    "        if E <= 0.:\n",
    "            system[N,M] *= -1\n",
    "        elif np.exp(-1./T*E) > np.random.rand():\n",
    "            system[N,M] *= -1\n",
    "    print system\n",
    "\n",
    "\n",
    "print '='*70\n",
    "print '\\tMonte Carlo Statistics for an ising model with'\n",
    "print '\\t\\tperiodic boundary conditions'\n",
    "print '='*70\n",
    "\n",
    "main()\n"
   ]
  }
 ],
 "metadata": {
  "kernelspec": {
   "display_name": "Python 2",
   "language": "python",
   "name": "python2"
  },
  "language_info": {
   "codemirror_mode": {
    "name": "ipython",
    "version": 2
   },
   "file_extension": ".py",
   "mimetype": "text/x-python",
   "name": "python",
   "nbconvert_exporter": "python",
   "pygments_lexer": "ipython2",
   "version": "2.7.11"
  }
 },
 "nbformat": 4,
 "nbformat_minor": 0
}
